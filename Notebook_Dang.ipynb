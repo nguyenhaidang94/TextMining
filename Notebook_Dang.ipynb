{
  "nbformat": 4,
  "nbformat_minor": 0,
  "metadata": {
    "anaconda-cloud": {},
    "kernelspec": {
      "display_name": "Python 3",
      "language": "python",
      "name": "python3"
    },
    "language_info": {
      "codemirror_mode": {
        "name": "ipython",
        "version": 3
      },
      "file_extension": ".py",
      "mimetype": "text/x-python",
      "name": "python",
      "nbconvert_exporter": "python",
      "pygments_lexer": "ipython3",
      "version": "3.7.5"
    },
    "colab": {
      "name": "Notebook_Dang.ipynb",
      "provenance": [],
      "collapsed_sections": [
        "AvNlUOoNr6ml",
        "Su6qGwimr6nk",
        "7FTvD42Jr6nm"
      ],
      "include_colab_link": true
    }
  },
  "cells": [
    {
      "cell_type": "markdown",
      "metadata": {
        "id": "view-in-github",
        "colab_type": "text"
      },
      "source": [
        "<a href=\"https://colab.research.google.com/github/nguyenhaidang94/text_mining/blob/master/Notebook_Dang.ipynb\" target=\"_parent\"><img src=\"https://colab.research.google.com/assets/colab-badge.svg\" alt=\"Open In Colab\"/></a>"
      ]
    },
    {
      "cell_type": "markdown",
      "metadata": {
        "id": "r7GLVf8lr6lJ",
        "colab_type": "text"
      },
      "source": [
        "# TP : Sentiment analysis on IMDB movie reviews"
      ]
    },
    {
      "cell_type": "markdown",
      "metadata": {
        "id": "nrDTod6Rr6lK",
        "colab_type": "text"
      },
      "source": [
        "## Objectives\n",
        "\n",
        "1. Implement a simple way to represent text data - Bag of words\n",
        "2. Implement a basic statistical learning model - Bayesian Naive\n",
        "3. Use these representations and this model for a sentiment analysis task.\n",
        "4. Implement different ways of obtaining dense representations of the same data\n",
        "5. Use a logistic regression model to train a classifier on these new representations."
      ]
    },
    {
      "cell_type": "markdown",
      "metadata": {
        "id": "yVLMliifr6lM",
        "colab_type": "text"
      },
      "source": [
        "## Necessary dependancies\n",
        "\n",
        "We will need the following packages:\n",
        "- The Machine Learning API Scikit-learn : http://scikit-learn.org/stable/install.html\n",
        "- The Natural Language Toolkit : http://www.nltk.org/install.html\n",
        "\n",
        "Both are available with Anaconda: https://anaconda.org/anaconda/nltk and https://anaconda.org/anaconda/scikit-learn"
      ]
    },
    {
      "cell_type": "code",
      "metadata": {
        "id": "gGdnKjrksHXR",
        "colab_type": "code",
        "outputId": "7637863a-dea6-466c-cac0-3f416e57fb07",
        "colab": {
          "base_uri": "https://localhost:8080/",
          "height": 122
        }
      },
      "source": [
        "from google.colab import drive\n",
        "drive.mount('/content/drive')"
      ],
      "execution_count": 1,
      "outputs": [
        {
          "output_type": "stream",
          "text": [
            "Go to this URL in a browser: https://accounts.google.com/o/oauth2/auth?client_id=947318989803-6bn6qk8qdgf4n4g3pfee6491hc0brc4i.apps.googleusercontent.com&redirect_uri=urn%3aietf%3awg%3aoauth%3a2.0%3aoob&response_type=code&scope=email%20https%3a%2f%2fwww.googleapis.com%2fauth%2fdocs.test%20https%3a%2f%2fwww.googleapis.com%2fauth%2fdrive%20https%3a%2f%2fwww.googleapis.com%2fauth%2fdrive.photos.readonly%20https%3a%2f%2fwww.googleapis.com%2fauth%2fpeopleapi.readonly\n",
            "\n",
            "Enter your authorization code:\n",
            "··········\n",
            "Mounted at /content/drive\n"
          ],
          "name": "stdout"
        }
      ]
    },
    {
      "cell_type": "code",
      "metadata": {
        "id": "zhMCkvaYshBK",
        "colab_type": "code",
        "outputId": "de4dbed2-0e98-47ab-85b7-90ed6545fe9d",
        "colab": {
          "base_uri": "https://localhost:8080/",
          "height": 51
        }
      },
      "source": [
        "%cd \"drive/My Drive/Master/TPT/S2P4/SD214 - Text Mining/tp\"\n",
        "%ls"
      ],
      "execution_count": 2,
      "outputs": [
        {
          "output_type": "stream",
          "text": [
            "/content/drive/My Drive/Master/TPT/S2P4/SD214 - Text Mining/tp\n",
            "\u001b[0m\u001b[01;34mdata\u001b[0m/  data.joblib  Main_Notebook.ipynb  Notebook_Dang.ipynb\n"
          ],
          "name": "stdout"
        }
      ]
    },
    {
      "cell_type": "code",
      "metadata": {
        "id": "2RoPjTLgr6lN",
        "colab_type": "code",
        "colab": {}
      },
      "source": [
        "from glob import glob\n",
        "import os.path as op\n",
        "import joblib\n",
        "import re \n",
        "import numpy as np\n",
        "import matplotlib.pyplot as plt"
      ],
      "execution_count": 0,
      "outputs": []
    },
    {
      "cell_type": "markdown",
      "metadata": {
        "id": "wN0UcdTPr6lT",
        "colab_type": "text"
      },
      "source": [
        "## Loading data\n",
        "\n",
        "We retrieve the textual data in the variable *texts*.\n",
        "\n",
        "The labels are retrieved in the variable $y$ - it contains *len(texts)* of them: $0$ indicates that the corresponding review is negative while $1$ indicates that it is positive."
      ]
    },
    {
      "cell_type": "code",
      "metadata": {
        "id": "4RXIUd51r6lU",
        "colab_type": "code",
        "colab": {}
      },
      "source": [
        "# We get the files from the path: ./data/imdb1/neg for negative reviews, and ./data/imdb1/pos for positive reviews\n",
        "filenames_neg = sorted(glob(op.join('.', 'data', 'imdb1', 'neg', '*.txt')))\n",
        "filenames_pos = sorted(glob(op.join('.', 'data', 'imdb1', 'pos', '*.txt')))\n",
        "\n",
        "# Each files contains a review that consists in one line of text: we put this string in two lists, that we concatenate\n",
        "# This number of documents may be high for most computers: we can select a fraction of them (here, one in k)\n",
        "# Use an even number to keep the same number of positive and negative reviews\n",
        "# \n",
        "texts_neg = [open(f, encoding=\"utf8\").read() for f in filenames_neg]\n",
        "texts_pos = [open(f, encoding=\"utf8\").read() for f in filenames_pos]\n",
        "texts = texts_neg + texts_pos"
      ],
      "execution_count": 0,
      "outputs": []
    },
    {
      "cell_type": "code",
      "metadata": {
        "id": "OV22rcwczLoH",
        "colab_type": "code",
        "outputId": "74966563-9d8c-4605-83ac-f61db8e7c82b",
        "colab": {
          "base_uri": "https://localhost:8080/",
          "height": 34
        }
      },
      "source": [
        "texts = joblib.load(\"data.joblib\")\n",
        "# The first half of the elements of the list are string of negative reviews, and the second half positive ones\n",
        "# We create the labels, as an array of [1,len(texts)], filled with 1, and change the first half to 0\n",
        "y = np.ones(len(texts), dtype=np.int)\n",
        "y[:12500] = 0.\n",
        "\n",
        "print(\"%d documents\" % len(texts))"
      ],
      "execution_count": 5,
      "outputs": [
        {
          "output_type": "stream",
          "text": [
            "25000 documents\n"
          ],
          "name": "stdout"
        }
      ]
    },
    {
      "cell_type": "code",
      "metadata": {
        "id": "7RiuKSIY02wO",
        "colab_type": "code",
        "outputId": "12b969c2-e45e-49ea-a702-d939805c94e2",
        "colab": {
          "base_uri": "https://localhost:8080/",
          "height": 34
        }
      },
      "source": [
        "# This number of documents may be high for most computers: we can select a fraction of them (here, one in k)\n",
        "# Use an even number to keep the same number of positive and negative reviews\n",
        "k = 10\n",
        "texts_reduced = texts[0::k]\n",
        "y_reduced = y [0::k]\n",
        "\n",
        "print('Number of documents:', len(texts_reduced))"
      ],
      "execution_count": 6,
      "outputs": [
        {
          "output_type": "stream",
          "text": [
            "Number of documents: 2500\n"
          ],
          "name": "stdout"
        }
      ]
    },
    {
      "cell_type": "markdown",
      "metadata": {
        "id": "J5ZhUWfkr6ld",
        "colab_type": "text"
      },
      "source": [
        "# Naive Bayesian \n",
        "\n",
        "## Main idea\n",
        "\n",
        "A movie review is in fact a list of words $s = (w_1, ..., w_N)$, and we try to find the associated class $c$ - which in our case may be $c = 0$ or $c = 1$. The objective is thus to find for each review $s$ the class $\\hat{c}$ maximizing the conditional probability **$P(c|s)$** : \n",
        "\n",
        "$$\\hat{c} = \\underset{c}{\\mathrm{argmax}}\\, P(c|s) = \\underset{c}{\\mathrm{argmax}}\\,\\frac{P(s|c)P(c)}{P(s)}$$\n",
        "\n",
        "**Hypothesis : P(s) is constant for each class** :\n",
        "\n",
        "$$\\hat{c} = \\underset{c}{\\mathrm{argmax}}\\,\\frac{P(s|c)P(c)}{P(s)} = \\underset{c}{\\mathrm{argmax}}\\,P(s|c)P(c)$$\n",
        "\n",
        "**Naive hypothesis : the variables (words) of a review are independant between themselves** : \n",
        "\n",
        "$$P(s|c) = P(w_1, ..., w_N|c)=\\Pi_{i=1..N}P(w_i|c)$$\n",
        "\n",
        "We will therefore be able to use the reviews at our disposal to **estimate the probabilities $P(w|c)$ for each word $w$ given the two classes $c$**. These reviews will allow us to learn how to evaluate the \"compatibility\" between words and classes."
      ]
    },
    {
      "cell_type": "markdown",
      "metadata": {
        "id": "8T0uDxeZr6le",
        "colab_type": "text"
      },
      "source": [
        "## General view\n",
        "\n",
        "### Training: Estimating the probabilities\n",
        "\n",
        "For each word $w$ in the vocabulary $V$, $P(w|c)$ is the number of occurrences of $w$ in all reviews of class $c$, divided by the total number of occurrences in $c$. If we note $T(w,c)$ this number of occurrences, we get:\n",
        "\n",
        "$$P(w|c) = \\text{Frequency of }w\\text{ in }c = \\frac{T(w,c)}{\\sum_{w' \\in V} T(w',c)}$$\n",
        "\n",
        "### Test: Calculating scores\n",
        "\n",
        "To facilitate the calculations and to avoid *underflow* and approximation errors, we use the log-sum trick, and we pass the equation into log-probabilities : \n",
        "\n",
        "$$ \\hat{c} = \\underset{c}{\\mathrm{argmax}} P(c|s) = \\underset{c}{\\mathrm{argmax}} \\left[ \\mathrm{log}(P(c)) + \\sum_{i=1..N}log(P(w_i|c)) \\right] $$\n",
        "\n",
        "### Laplace smoothing\n",
        "\n",
        "A word that does not appear in a document has a probability of zero: this will cause issues with the logarithm. So we keep a very small part of the probability mass that we redistribute with the *Laplace smoothing*: \n",
        "\n",
        "$$P(w|c) = \\frac{T(w,c) + 1}{\\sum_{w' \\in V} T(w',c) + 1}$$\n",
        "\n",
        "There are other smoothing methods, generally suitable for other, more complex applications. "
      ]
    },
    {
      "cell_type": "markdown",
      "metadata": {
        "id": "0rS9CK7Kr6lf",
        "colab_type": "text"
      },
      "source": [
        "## Adapted representation of documents\n",
        "\n",
        "Our statistical model, like most models applied to textual data, uses counts of word occurrences in a document. Thus, a very convenient way to represent a document is to use a Bag-of-Words (BoW) vector, containing the counts of each word (regardless of their order of occurrence) in the document. \n",
        "\n",
        "If we consider the set of all the words appearing in our $T$ training documents, which we note $V$ (Vocabulary), we can create **an index**, which is a bijection associating to each $w$ word an integer, which will be its position in $V$. \n",
        "\n",
        "Thus, for a document extracted from a set of documents containing $|V|$ different words, a BoW representation will be a vector of size $|V|$, whose value at the index of a word $w$ will be its number of occurrences in the document. \n",
        "\n",
        "We can use the **CountVectorizer** class from scikit-learn to better understand:"
      ]
    },
    {
      "cell_type": "code",
      "metadata": {
        "id": "RkjxiUWIr6lg",
        "colab_type": "code",
        "colab": {}
      },
      "source": [
        "from sklearn.feature_extraction.text import CountVectorizer\n",
        "\n",
        "from sklearn.model_selection import cross_val_score\n",
        "from sklearn.base import BaseEstimator, ClassifierMixin"
      ],
      "execution_count": 0,
      "outputs": []
    },
    {
      "cell_type": "code",
      "metadata": {
        "id": "PR7RmHOpr6lm",
        "colab_type": "code",
        "outputId": "0bf41e76-b45d-4b71-883e-0c5df6497a72",
        "colab": {
          "base_uri": "https://localhost:8080/",
          "height": 119
        }
      },
      "source": [
        "corpus = ['I walked down down the boulevard',\n",
        "          'I walked down the avenue',\n",
        "          'I ran down the boulevard',\n",
        "          'I walk down the city',\n",
        "          'I walk down the the avenue']\n",
        "vectorizer = CountVectorizer()\n",
        "\n",
        "Bow = vectorizer.fit_transform(corpus)\n",
        "\n",
        "print(vectorizer.get_feature_names())\n",
        "Bow.toarray()"
      ],
      "execution_count": 8,
      "outputs": [
        {
          "output_type": "stream",
          "text": [
            "['avenue', 'boulevard', 'city', 'down', 'ran', 'the', 'walk', 'walked']\n"
          ],
          "name": "stdout"
        },
        {
          "output_type": "execute_result",
          "data": {
            "text/plain": [
              "array([[0, 1, 0, 2, 0, 1, 0, 1],\n",
              "       [1, 0, 0, 1, 0, 1, 0, 1],\n",
              "       [0, 1, 0, 1, 1, 1, 0, 0],\n",
              "       [0, 0, 1, 1, 0, 1, 1, 0],\n",
              "       [1, 0, 0, 1, 0, 2, 1, 0]])"
            ]
          },
          "metadata": {
            "tags": []
          },
          "execution_count": 8
        }
      ]
    },
    {
      "cell_type": "markdown",
      "metadata": {
        "id": "6Gqv7ypOr6lr",
        "colab_type": "text"
      },
      "source": [
        "We display the list containing the words ordered according to their index (Note that words of 2 characters or less are not counted)."
      ]
    },
    {
      "cell_type": "markdown",
      "metadata": {
        "id": "8avnN7v6r6lu",
        "colab_type": "text"
      },
      "source": [
        "## Detail: training\n",
        "\n",
        "The idea is to extract the number of occurrences $T(w,c)$ for each word $w$ and each class $c$, which will make it possible to calculate the matrix of conditional probabilities $\\pmb{P}$ such that: $$\\pmb{P}_{w,c} = P(w|c)$$\n",
        "\n",
        "Note that the number of occurrences $T(w,c)$ can be easily obtained from the BoW representations of all documents !\n",
        "\n",
        "### Procedure:\n",
        "\n",
        "- Extract the vocabulary $V$ and counts $T(w,c)$ for each of the words $w$ and classes $c$, from a set of documents.\n",
        "- Calculate the a priori probabilities of the classes $P(c) = \\frac{\\sum_{w \\in V} T(w,c)}{\\sum_{c \\in C} \\sum_{w \\in V} T(w,c)}$\n",
        "- Calculate the conditional **smoothed** probabilities $P(w|c) = \\frac{T(w,c) + 1}{\\sum_{w' \\in V} T(w',c) + 1}$.\n",
        "\n",
        "## Detail: test\n",
        "\n",
        "We now know the conditional probabilities given by the $\\pmb{P}$ matrix. \n",
        "Now we must obtain $P(s|c)$ for the current document. This quantity is obtained using a simple calculation involving the BoW representation of the document and $\\pmb{P}$.\n",
        "\n",
        "### Procedure:\n",
        "\n",
        "- For each of the classes $c$,\n",
        "    - $Score(c) = \\log P(c)$\n",
        "    - For each word $w$ in the document to be tested:\n",
        "        - $Score(c) += \\log P(w|c)$\n",
        "- Return $argmax_{c \\in C} Score(c)$ \n",
        "\n",
        "Translated with www.DeepL.com/Translator (free version)"
      ]
    },
    {
      "cell_type": "markdown",
      "metadata": {
        "id": "3LayPdzdr6lv",
        "colab_type": "text"
      },
      "source": [
        "## Preprocessing the text: get the BoW representations ##\n",
        "\n",
        "The first thing to do is to turn the review from a string into a list of words. The simplest method is to divide the string according to spaces with the command:\n",
        "``text.split()``\n",
        "\n",
        "But we must also be careful to remove special characters that may not have been cleaned up (such as HTML tags if the data was obtained from web pages). Since we're going to count words, we'll have to build a list of tokens appearing in our data. In our case, we'd like to reduce this list and make it uniform (ignore capitalization, punctuation, and the shortest words). \n",
        "We will therefore use a function adapted to our needs - but this is a job that we generally don't need to do ourselves, since there are many tools already adapted to most situations. \n",
        "For text cleansing, there are many scripts, based on different tools (regular expressions, for example) that allow you to prepare data. The division of the text into words and the management of punctuation is handled in a step called *tokenization*; if needed, a python package like NLTK contains many different *tokenizers*."
      ]
    },
    {
      "cell_type": "code",
      "metadata": {
        "id": "RO52SpsTr6lw",
        "colab_type": "code",
        "outputId": "8a6b865d-6533-4017-ac17-e2776f376dff",
        "colab": {
          "base_uri": "https://localhost:8080/",
          "height": 105
        }
      },
      "source": [
        "# We might want to clean the file with various strategies:\n",
        "def clean_and_tokenize(text):\n",
        "    \"\"\"\n",
        "    Cleaning a document with:\n",
        "        - Lowercase        \n",
        "        - Removing numbers with regular expressions\n",
        "        - Removing punctuation with regular expressions\n",
        "        - Removing other artifacts\n",
        "    And separate the document into words by simply splitting at spaces\n",
        "    Params:\n",
        "        text (string): a sentence or a document\n",
        "    Returns:\n",
        "        tokens (list of strings): the list of tokens (word units) forming the document\n",
        "    \"\"\"        \n",
        "    # Lowercase\n",
        "    text = text.lower()\n",
        "    # Remove numbers\n",
        "    text = re.sub(r\"[0-9]+\", \"\", text)\n",
        "    # Remove punctuation\n",
        "    REMOVE_PUNCT = re.compile(\"[.;:!\\'?,\\\"()\\[\\]]\")\n",
        "    text = REMOVE_PUNCT.sub(\"\", text)\n",
        "    # Do not remove small words (1 and statistique2 characters)\n",
        "    # text = re.sub(r\"\\b\\w{1,2}\\b\", \"\", text)\n",
        "    # Remove HTML artifacts specific to the corpus we're going to work with\n",
        "    REPLACE_HTML = re.compile(\"(<br\\s*/><br\\s*/>)|(\\-)|(\\/)\")\n",
        "    text = REPLACE_HTML.sub(\" \", text)\n",
        "    # Remove special chars\n",
        "    SPECIAL_CHARS = re.compile(\"[\\+\\-\\\\\\/\\^<>@#$%&\\*=_`]\")\n",
        "    text = SPECIAL_CHARS.sub(\"\", text)\n",
        "\n",
        "    tokens = text.split()        \n",
        "    return tokens\n",
        "\n",
        "# Or we might want to use an already-implemented tool. The NLTK package has a lot of very useful text processing tools, among them various tokenizers\n",
        "# Careful, NLTK was the first well-documented NLP package, but it might be outdated for some uses. Check the documentation !\n",
        "import nltk\n",
        "from nltk.tokenize import word_tokenize\n",
        "nltk.download('punkt')\n",
        "\n",
        "corpus_raw = \"I walked down down the boulevard. I walked down the avenue. I ran down the boulevard. I walk down the city. I walk down the the avenue.\"\n",
        "print(clean_and_tokenize(corpus_raw))\n",
        "print(word_tokenize(corpus_raw))"
      ],
      "execution_count": 93,
      "outputs": [
        {
          "output_type": "stream",
          "text": [
            "[nltk_data] Downloading package punkt to /root/nltk_data...\n",
            "[nltk_data]   Package punkt is already up-to-date!\n",
            "['i', 'walked', 'down', 'down', 'the', 'boulevard', 'i', 'walked', 'down', 'the', 'avenue', 'i', 'ran', 'down', 'the', 'boulevard', 'i', 'walk', 'down', 'the', 'city', 'i', 'walk', 'down', 'the', 'the', 'avenue']\n",
            "['I', 'walked', 'down', 'down', 'the', 'boulevard', '.', 'I', 'walked', 'down', 'the', 'avenue', '.', 'I', 'ran', 'down', 'the', 'boulevard', '.', 'I', 'walk', 'down', 'the', 'city', '.', 'I', 'walk', 'down', 'the', 'the', 'avenue', '.']\n"
          ],
          "name": "stdout"
        }
      ]
    },
    {
      "cell_type": "markdown",
      "metadata": {
        "id": "xHjZe7IzD5cX",
        "colab_type": "text"
      },
      "source": [
        "In this function, we do not remove small words (words with 1 or 2 characters)"
      ]
    },
    {
      "cell_type": "markdown",
      "metadata": {
        "id": "7l71ojSir6l1",
        "colab_type": "text"
      },
      "source": [
        "Function **to be completed**. It takes as input a list of documents (each in the form of a string) and returns, as in the example using ``CountVectorizer``:\n",
        "- A vocabulary that associates, to each word encountered, an index\n",
        "- A matrix, with rows representing documents and columns representing words indexed by the vocabulary. In position $(i,j)$, one should have the number of occurrences of the word $j$ in the document $i$.\n",
        "\n",
        "The vocabulary, which was in the form of a *list* in the previous example, can be returned in the form of a *dictionary* whose keys are the words and values are the indices. Since the vocabulary lists the words in the corpus without worrying about their number of occurrences, it can be built up using a set (in python). \n",
        "Of course, we can use the function ``clean_and_tokenize'' to transform the strings into a list of words. \n",
        "\n",
        "##### Some pointers for beginners in Python :\n",
        "\n",
        "- ```my_list.append(value)``` : put the variable ```value``` at the end of the list ```my_list```\n",
        "\n",
        "-  ```words = set()``` : create a set, which is a list of unique values \n",
        "\n",
        "- ```words.union(my_list)``` : extend the set ```words```\n",
        "\n",
        "- ```dict(zip(keys, values)))``` : create a dictionnary\n",
        "\n",
        "- ```for k, text in enumerate(texts)``` : syntax for a loop with the index, ```texts``` begin a list (of texts !)\n",
        "\n",
        "- ```len(my-list)``` : length of the list ```my_list```\n"
      ]
    },
    {
      "cell_type": "code",
      "metadata": {
        "id": "P3NxSVKXr6l3",
        "colab_type": "code",
        "colab": {}
      },
      "source": [
        "def count_words(texts):\n",
        "    \"\"\"Vectorize text : return count of each word in the text snippets\n",
        "\n",
        "    Parameters\n",
        "    ----------\n",
        "    texts : list of str\n",
        "        The texts\n",
        "    Returns\n",
        "    -------\n",
        "    vocabulary : dict\n",
        "        A dictionary that points to an index in counts for each word.\n",
        "    counts : ndarray, shape (n_samples, n_features)\n",
        "        The counts of each word in each text.\n",
        "    \"\"\"\n",
        "    words_set = set()\n",
        "    words_list = []\n",
        "    for text in texts:\n",
        "      # tokenization\n",
        "      words = clean_and_tokenize(text)\n",
        "      words_list.append(words)\n",
        "      words_set = words_set.union(words)\n",
        "    words_set = sorted(words_set)\n",
        "    vocabulary = dict(zip(words_set, np.arange(len(words_set))))\n",
        "\n",
        "    counts = np.zeros((len(texts), len(vocabulary)), dtype=int)\n",
        "    for i in range(len(texts)):\n",
        "      for word in words_list[i]:\n",
        "        counts[i, vocabulary[word] ] += 1\n",
        "    \n",
        "    return vocabulary, counts"
      ],
      "execution_count": 0,
      "outputs": []
    },
    {
      "cell_type": "code",
      "metadata": {
        "id": "PkO0JmuYr6l8",
        "colab_type": "code",
        "outputId": "b0966170-ac3c-4224-e025-05a79f47bd17",
        "colab": {
          "base_uri": "https://localhost:8080/",
          "height": 119
        }
      },
      "source": [
        "Voc, X = count_words(corpus)\n",
        "print(Voc)\n",
        "print(X)"
      ],
      "execution_count": 14,
      "outputs": [
        {
          "output_type": "stream",
          "text": [
            "{'avenue': 0, 'boulevard': 1, 'city': 2, 'down': 3, 'i': 4, 'ran': 5, 'the': 6, 'walk': 7, 'walked': 8}\n",
            "[[0 1 0 2 1 0 1 0 1]\n",
            " [1 0 0 1 1 0 1 0 1]\n",
            " [0 1 0 1 1 1 1 0 0]\n",
            " [0 0 1 1 1 0 1 1 0]\n",
            " [1 0 0 1 1 0 2 1 0]]\n"
          ],
          "name": "stdout"
        }
      ]
    },
    {
      "cell_type": "markdown",
      "metadata": {
        "id": "FPmW3MZHr6mA",
        "colab_type": "text"
      },
      "source": [
        "## Naive Bayesian \n",
        "\n",
        "Empty class: functions **to be completed** : \n",
        "\n",
        "```python\n",
        "def fit(self, X, y)\n",
        "``` \n",
        "**Training**: will learn a statistical model based on the representations $X$ corresponding to the labels $y$.\n",
        "Here, $X$ contains representations obtained as the output of ```count_words```. You can complete the function using the procedure detailed above. \n",
        "\n",
        "Note: the smoothing is not necessarily done with a $1$ - it can be done with a positive value $\\alpha$, which we can implement as an argument of the class \"NB\".\n",
        "\n",
        "```python\n",
        "def predict(self, X)\n",
        "```\n",
        "**Testing**: will return the labels predicted by the model for other representations $X$.\n",
        "\n",
        "\n",
        "\n",
        "To facilitate the procedure, we will take half of the $X$ matrix obtained above to train the model, and the other half to evaluate it. **Important**: this is not realistic - usually only the training data is available when creating the vocabulary and training the model. Thus, it is possible that the evaluation data may contain *unknown* words. This is something that can easily be dealt with by dedicating a clue to all the words encountered that are not contained in the vocabulary - but there are many more complex methods for successfully using those words that the model did not encounter in training. "
      ]
    },
    {
      "cell_type": "markdown",
      "metadata": {
        "id": "1e7CFwKrr6mB",
        "colab_type": "text"
      },
      "source": [
        "##### Some pointers for beginners in Python :\n",
        "\n",
        "Use the Numpy API to work with arrays:\n",
        "\n",
        "\n",
        "- ```X.shape``` : for a ```numpy.array```, return the dimension of the tensor\n",
        "\n",
        "- ```np.zeros((dim_1, dim_2,...))``` : create a tensor filled with zeros\n",
        "\n",
        "- ```np.sum(X, axis = n)``` : sum the tensor over the axis n\n",
        "\n",
        "- ```np.mean(X, axis = n)```\n",
        "\n",
        "- ```np.argmax(X, axis = n)```\n",
        "\n",
        "- ```np.log(X)```\n",
        "\n",
        "- ```np.dot(X_1, X_1)``` : Matrix multiplication"
      ]
    },
    {
      "cell_type": "code",
      "metadata": {
        "id": "LwraPm8Ir6mD",
        "colab_type": "code",
        "colab": {}
      },
      "source": [
        "class NB(BaseEstimator, ClassifierMixin):\n",
        "    # Class arguments allow to inherit from sklearn classes\n",
        "    def __init__(self, alpha=1.0):\n",
        "        # alpha is the smoothing parameter\n",
        "        self.alpha = alpha\n",
        "\n",
        "    def fit(self, X, y):\n",
        "        vocab_size = X.shape[1]\n",
        "        all_occurrences = np.sum(X)\n",
        "        X0 = X[y==0]\n",
        "        X1 = X[y==1]\n",
        "        # p(c)\n",
        "        self.p_c0_ = np.sum(X0)/all_occurrences\n",
        "        self.p_c1_ = np.sum(X1)/all_occurrences\n",
        "        \n",
        "        # p(w|c)\n",
        "        self.p_wc0_ = (np.sum(X0, axis=0)+1)/(np.sum(X0)+vocab_size)\n",
        "        self.p_wc1_ = (np.sum(X1, axis=0)+1)/(np.sum(X1)+vocab_size)\n",
        "        return self\n",
        "\n",
        "    def predict(self, X):\n",
        "        n = X.shape[0]\n",
        "        log_pwc0 = np.log(self.p_wc0_).reshape((-1,1))\n",
        "        log_pwc1 = np.log(self.p_wc1_).reshape((-1,1))\n",
        "        log_pwc = np.hstack((log_pwc0, log_pwc1))\n",
        "        \n",
        "        log_pc0_vector = np.repeat(np.log(self.p_c0_), n).reshape(-1,1)\n",
        "        log_pc1_vector = np.repeat(np.log(self.p_c1_), n).reshape(-1,1)\n",
        "        log_pc = np.hstack((log_pc0_vector,log_pc1_vector))\n",
        "        \n",
        "        scores = log_pc + X.dot(log_pwc)\n",
        "        result = np.argmax(scores, axis=1)\n",
        "        return result\n",
        "\n",
        "    def score(self, X, y):\n",
        "        return np.mean(self.predict(X) == y)"
      ],
      "execution_count": 0,
      "outputs": []
    },
    {
      "cell_type": "markdown",
      "metadata": {
        "id": "sEoLIg2Gr6mJ",
        "colab_type": "text"
      },
      "source": [
        "## Experimentation\n",
        "\n",
        "We use half the data for training, and the other half for evaluation."
      ]
    },
    {
      "cell_type": "code",
      "metadata": {
        "id": "z34IBH35r6mK",
        "colab_type": "code",
        "colab": {}
      },
      "source": [
        "voc, X = count_words(texts_reduced)"
      ],
      "execution_count": 0,
      "outputs": []
    },
    {
      "cell_type": "code",
      "metadata": {
        "scrolled": true,
        "id": "xLWh4Gyor6mO",
        "colab_type": "code",
        "outputId": "96873f72-9802-4daf-d984-b1d0e7e6f440",
        "colab": {
          "base_uri": "https://localhost:8080/",
          "height": 34
        }
      },
      "source": [
        "nb = NB()\n",
        "nb.fit(X[::2], y_reduced[::2])\n",
        "print(\"Score in test set:\", nb.score(X[1::2], y_reduced[1::2]))"
      ],
      "execution_count": 17,
      "outputs": [
        {
          "output_type": "stream",
          "text": [
            "Score in test set: 0.7808\n"
          ],
          "name": "stdout"
        }
      ]
    },
    {
      "cell_type": "markdown",
      "metadata": {
        "id": "PCy9kC-or6mS",
        "colab_type": "text"
      },
      "source": [
        "## Cross-validation \n",
        "\n",
        "With the function *cross_val_score* from scikit-learn"
      ]
    },
    {
      "cell_type": "code",
      "metadata": {
        "id": "HXdGeTEpr6mT",
        "colab_type": "code",
        "outputId": "27ec03a9-61d1-478c-a4ad-d6a7db0ad0e1",
        "colab": {
          "base_uri": "https://localhost:8080/",
          "height": 34
        }
      },
      "source": [
        "scores = cross_val_score(nb, X, y_reduced, cv=5)\n",
        "print('Cross-validation score: %s (std %s)' % (np.mean(scores), np.std(scores)))"
      ],
      "execution_count": 18,
      "outputs": [
        {
          "output_type": "stream",
          "text": [
            "Cross-validation score: 0.7752000000000001 (std 0.023718347328597726)\n"
          ],
          "name": "stdout"
        }
      ]
    },
    {
      "cell_type": "markdown",
      "metadata": {
        "id": "o14xyYdcr6mX",
        "colab_type": "text"
      },
      "source": [
        "## Evaluating performances: \n",
        "\n",
        "**What are the strengths and weaknesses of this system? How can they be remedied?**"
      ]
    },
    {
      "cell_type": "markdown",
      "metadata": {
        "id": "tNXmjEXt1cLG",
        "colab_type": "text"
      },
      "source": [
        "???"
      ]
    },
    {
      "cell_type": "markdown",
      "metadata": {
        "id": "_4F60ltBr6mY",
        "colab_type": "text"
      },
      "source": [
        "## To go further: "
      ]
    },
    {
      "cell_type": "code",
      "metadata": {
        "id": "INtbvdibr6mY",
        "colab_type": "code",
        "colab": {}
      },
      "source": [
        "from sklearn.naive_bayes import MultinomialNB\n",
        "from sklearn.feature_extraction.text import TfidfTransformer\n",
        "from sklearn.feature_extraction.text import TfidfVectorizer\n",
        "from sklearn.pipeline import Pipeline"
      ],
      "execution_count": 0,
      "outputs": []
    },
    {
      "cell_type": "markdown",
      "metadata": {
        "id": "BLM6sJhsr6me",
        "colab_type": "text"
      },
      "source": [
        "## Scikit-learn"
      ]
    },
    {
      "cell_type": "markdown",
      "metadata": {
        "id": "Z8QUqvLmr6mf",
        "colab_type": "text"
      },
      "source": [
        "### Improving representations\n",
        "\n",
        "We use the function \n",
        "```python\n",
        "CountVectorizer\n",
        "``` \n",
        "of scikit-learn. It will allow us to easily improve our BoW representations.\n",
        "\n",
        "#### Tf-idf:\n",
        "\n",
        "This is the product of the frequency of the term (TF) and its inverse frequency in documents (IDF).\n",
        "This method is usually used to measure the importance of a term $i$ in a document $j$ relative to the rest of the corpus, from a matrix of occurrences $ words \\times documents$. Thus, for a matrix $\\mathbf{T}$ of $|V|$ terms and $D$ documents:\n",
        "$$\\text{TF}(T, w, d) = \\frac{T_{w,d}}{\\sum_{w'=1}^{|V|} T_{w',d}}$$\n",
        "\n",
        "$$\\text{IDF}(T,w) = \\log\\left(\\frac{D}{|\\{d: T_{w,d} > 0\\}|}\\right)$$\n",
        "\n",
        "$$\\text{TF-IDF}(T, w, d) = \\text{TF}(X, w, d) \\cdot \\text{IDF}(T, w)$$\n",
        "\n",
        "It can be adapted to our case by considering that the context of the second word is the document. However, TF-IDF is generally better suited to low-density matrices, since it will penalize terms that appear in a large part of the documents. \n",
        "    \n",
        "#### Do not take into account words that are too frequent:\n",
        "\n",
        "You can use the argument\n",
        "```python\n",
        "max_df=1.0\n",
        "```\n",
        "to change the amount of words taken into account. \n",
        "\n",
        "#### Try different granularities:\n",
        "\n",
        "Rather than just counting words, we can count sequences of words - limited in size, of course. \n",
        "We call a sequence of $n$ words a $n$-gram: let's try using 2 and 3-grams (bi- and trigrams).\n",
        "We can also try to use character sequences instead of word sequences.\n",
        "\n",
        "We will be interested in the options \n",
        "```python\n",
        "analyze='word'\n",
        "```\n",
        "and \n",
        "```python\n",
        "ngram_range=(1, 2)\n",
        "```\n",
        "which we'll change to alter the granularity. "
      ]
    },
    {
      "cell_type": "code",
      "metadata": {
        "scrolled": true,
        "id": "_LvMX9OIr6mg",
        "colab_type": "code",
        "outputId": "5d8699e2-5f51-4bd8-d703-fec51896d376",
        "colab": {
          "base_uri": "https://localhost:8080/",
          "height": 119
        }
      },
      "source": [
        "## We can define a pipeline, with which we can experiment.\n",
        "\n",
        "pipeline_base = Pipeline([\n",
        "    ('vect', CountVectorizer(analyzer='word', stop_words=None, tokenizer=clean_and_tokenize)),\n",
        "    ('clf', MultinomialNB()),\n",
        "])\n",
        "scores = cross_val_score(pipeline_base, texts_reduced, y_reduced, cv=5)\n",
        "print(\"Classification score: {} (std {})\".format(np.mean(scores), np.std(scores)))\n",
        "\n",
        "pipeline_tf_idf = Pipeline([\n",
        "    ('vect', TfidfVectorizer(analyzer='word', ngram_range=(1,1), tokenizer=clean_and_tokenize)),\n",
        "    ('clf', MultinomialNB()),\n",
        "])\n",
        "scores = cross_val_score(pipeline_tf_idf, texts_reduced, y_reduced, cv=5)\n",
        "print(\"Classification score tf-idf: {} (std {})\".format(np.mean(scores), np.std(scores)))\n",
        "\n",
        "pipeline_maxdf = Pipeline([\n",
        "    ('vect', TfidfVectorizer(analyzer='word', ngram_range=(1,1), max_df=0.9, tokenizer=clean_and_tokenize)),\n",
        "    ('clf', MultinomialNB()),\n",
        "])\n",
        "scores = cross_val_score(pipeline_maxdf, texts_reduced, y_reduced, cv=5)\n",
        "print(\"Classification score without most frequent words: {} (std {})\".format(np.mean(scores), np.std(scores)))\n",
        "\n",
        "pipeline_bigram = Pipeline([\n",
        "    ('vect', TfidfVectorizer(analyzer='word', ngram_range=(2,2), tokenizer=clean_and_tokenize)),\n",
        "    ('clf', MultinomialNB()),\n",
        "])\n",
        "scores = cross_val_score(pipeline_bigram, texts_reduced, y_reduced, cv=5)\n",
        "print(\"Classification score bigram: {} (std {})\".format(np.mean(scores), np.std(scores)))\n",
        "\n",
        "pipeline_trigram = Pipeline([\n",
        "    ('vect', TfidfVectorizer(analyzer='word', ngram_range=(3,3), tokenizer=clean_and_tokenize)),\n",
        "    ('clf', MultinomialNB()),\n",
        "])\n",
        "scores = cross_val_score(pipeline_trigram, texts_reduced, y_reduced, cv=5)\n",
        "print(\"Classification score trigram: {} (std {})\".format(np.mean(scores), np.std(scores)))\n",
        "\n",
        "pipeline_char = Pipeline([\n",
        "    ('vect', TfidfVectorizer(analyzer='char')),\n",
        "    ('clf', MultinomialNB()),\n",
        "])\n",
        "scores = cross_val_score(pipeline_char, texts_reduced, y_reduced, cv=5)\n",
        "print(\"Classification score char: {} (std {})\".format(np.mean(scores), np.std(scores)))"
      ],
      "execution_count": 20,
      "outputs": [
        {
          "output_type": "stream",
          "text": [
            "Classification score: 0.776 (std 0.023426480742954094)\n",
            "Classification score tf-idf: 0.7824 (std 0.02809697492613749)\n",
            "Classification score without most frequent words: 0.7807999999999999 (std 0.02832948993540122)\n",
            "Classification score bigram: 0.8048 (std 0.024416387939250946)\n",
            "Classification score trigram: 0.7612000000000001 (std 0.015419468213917119)\n",
            "Classification score char: 0.6136 (std 0.0209914268214431)\n"
          ],
          "name": "stdout"
        }
      ]
    },
    {
      "cell_type": "markdown",
      "metadata": {
        "id": "pCeTanHtdpju",
        "colab_type": "text"
      },
      "source": [
        "Comment: ???"
      ]
    },
    {
      "cell_type": "markdown",
      "metadata": {
        "id": "AvNlUOoNr6ml",
        "colab_type": "text"
      },
      "source": [
        "### Natural Language Toolkit (NLTK)"
      ]
    },
    {
      "cell_type": "markdown",
      "metadata": {
        "id": "nVwq5sB_r6ml",
        "colab_type": "text"
      },
      "source": [
        "### Stemming \n",
        "\n",
        "Allows to go back to the root of a word: you can group different words around the same root, which facilitates generalization. Use:\n",
        "```python\n",
        "from nltk import SnowballStemmer\n",
        "```"
      ]
    },
    {
      "cell_type": "code",
      "metadata": {
        "id": "J-hlyY4Yr6mm",
        "colab_type": "code",
        "colab": {}
      },
      "source": [
        "from nltk import SnowballStemmer\n",
        "stemmer = SnowballStemmer(\"english\")"
      ],
      "execution_count": 0,
      "outputs": []
    },
    {
      "cell_type": "markdown",
      "metadata": {
        "id": "thH_f68Sr6mr",
        "colab_type": "text"
      },
      "source": [
        "#### Example:"
      ]
    },
    {
      "cell_type": "code",
      "metadata": {
        "id": "ikk1dbMBr6ms",
        "colab_type": "code",
        "outputId": "7c5d0120-9abf-4003-e036-d18769eb3f8c",
        "colab": {
          "base_uri": "https://localhost:8080/",
          "height": 119
        }
      },
      "source": [
        "words = ['singers', 'cat', 'generalization', 'philosophy', 'psychology', 'philosopher']\n",
        "for word in words:\n",
        "    print('word : %s ; stemmed : %s' %(word, stemmer.stem(word)))#.decode('utf-8'))))"
      ],
      "execution_count": 24,
      "outputs": [
        {
          "output_type": "stream",
          "text": [
            "word : singers ; stemmed : singer\n",
            "word : cat ; stemmed : cat\n",
            "word : generalization ; stemmed : general\n",
            "word : philosophy ; stemmed : philosophi\n",
            "word : psychology ; stemmed : psycholog\n",
            "word : philosopher ; stemmed : philosoph\n"
          ],
          "name": "stdout"
        }
      ]
    },
    {
      "cell_type": "markdown",
      "metadata": {
        "id": "m41WFRCBr6mx",
        "colab_type": "text"
      },
      "source": [
        "#### Application:\n",
        "\n",
        "Empty class : function **to complete** \n",
        "```python\n",
        "def stem(X)\n",
        "``` "
      ]
    },
    {
      "cell_type": "code",
      "metadata": {
        "id": "TUT0s7Vor6mz",
        "colab_type": "code",
        "colab": {}
      },
      "source": [
        "def stem(X): \n",
        "    X_stem = []\n",
        "    for text in X:\n",
        "      # tokenize\n",
        "      tokens = clean_and_tokenize(text)\n",
        "      # obtain vector stemmed\n",
        "      tokens_stemmed = [stemmer.stem(token) for token in tokens]\n",
        "      # concatenate to a text stemmed\n",
        "      text_stemmed = ' '.join(tokens_stemmed)\n",
        "      X_stem.append(text_stemmed)\n",
        "    return X_stem"
      ],
      "execution_count": 0,
      "outputs": []
    },
    {
      "cell_type": "code",
      "metadata": {
        "id": "eyOLvkddr6m3",
        "colab_type": "code",
        "outputId": "d964c511-4a2f-4f49-ca58-cacc71385742",
        "colab": {
          "base_uri": "https://localhost:8080/",
          "height": 34
        }
      },
      "source": [
        "texts_stemmed = stem(texts_reduced)\n",
        "voc, X = count_words(texts_stemmed)\n",
        "nb = NB()\n",
        "\n",
        "scores = cross_val_score(nb, X, y_reduced, cv=5)\n",
        "print('Classification score: %s (std %s)' % (np.mean(scores), np.std(scores)))"
      ],
      "execution_count": 26,
      "outputs": [
        {
          "output_type": "stream",
          "text": [
            "Classification score: 0.7688 (std 0.02002398561725414)\n"
          ],
          "name": "stdout"
        }
      ]
    },
    {
      "cell_type": "markdown",
      "metadata": {
        "id": "PJ3EDGOXg5Ju",
        "colab_type": "text"
      },
      "source": [
        "Comment: ???"
      ]
    },
    {
      "cell_type": "markdown",
      "metadata": {
        "id": "g_z6aOJsr6m7",
        "colab_type": "text"
      },
      "source": [
        "### Part of speech tags\n",
        "\n",
        "To generalize, we can also use the Part of Speech (POS) of the words, which will allow us to filter out information that is potentially not useful to the model. We will retrieve the POS of the words using the functions:\n",
        "```python\n",
        "from nltk import pos_tag, word_tokenize\n",
        "```"
      ]
    },
    {
      "cell_type": "code",
      "metadata": {
        "id": "b9ph3Hypr6m8",
        "colab_type": "code",
        "colab": {
          "base_uri": "https://localhost:8080/",
          "height": 85
        },
        "outputId": "e7d60087-431f-41fc-c860-b09d6a1f54c4"
      },
      "source": [
        "from nltk import pos_tag, word_tokenize\n",
        "nltk.download('averaged_perceptron_tagger')"
      ],
      "execution_count": 29,
      "outputs": [
        {
          "output_type": "stream",
          "text": [
            "[nltk_data] Downloading package averaged_perceptron_tagger to\n",
            "[nltk_data]     /root/nltk_data...\n",
            "[nltk_data]   Unzipping taggers/averaged_perceptron_tagger.zip.\n"
          ],
          "name": "stdout"
        },
        {
          "output_type": "execute_result",
          "data": {
            "text/plain": [
              "True"
            ]
          },
          "metadata": {
            "tags": []
          },
          "execution_count": 29
        }
      ]
    },
    {
      "cell_type": "markdown",
      "metadata": {
        "id": "_90Gv2hdr6nA",
        "colab_type": "text"
      },
      "source": [
        "#### Example:"
      ]
    },
    {
      "cell_type": "code",
      "metadata": {
        "scrolled": true,
        "id": "BLYOd9NOr6nB",
        "colab_type": "code",
        "outputId": "04cd072a-68d4-41e3-87ac-44957a3bb651",
        "colab": {
          "base_uri": "https://localhost:8080/",
          "height": 34
        }
      },
      "source": [
        "pos_tag(word_tokenize(('I am Sam')))"
      ],
      "execution_count": 30,
      "outputs": [
        {
          "output_type": "execute_result",
          "data": {
            "text/plain": [
              "[('I', 'PRP'), ('am', 'VBP'), ('Sam', 'NNP')]"
            ]
          },
          "metadata": {
            "tags": []
          },
          "execution_count": 30
        }
      ]
    },
    {
      "cell_type": "markdown",
      "metadata": {
        "id": "oX5mxyETr6nJ",
        "colab_type": "text"
      },
      "source": [
        "Details of POS tags meanings: https://stackoverflow.com/questions/15388831/what-are-all-possible-pos-tags-of-nltk"
      ]
    },
    {
      "cell_type": "markdown",
      "metadata": {
        "id": "heMf6dtMr6nK",
        "colab_type": "text"
      },
      "source": [
        "#### Application:\n",
        "\n",
        "Empty class : function **to complete** \n",
        "```python\n",
        "def pos_tag_filter(X, good_tags=['NN', 'VB', 'ADJ', 'RB'])\n",
        "``` \n",
        "\n",
        "Only keeps nouns, adverbs, verbs and adjectives for our model. "
      ]
    },
    {
      "cell_type": "code",
      "metadata": {
        "id": "03vzHEzVr6nK",
        "colab_type": "code",
        "colab": {}
      },
      "source": [
        "def pos_tag_filter(X, good_tags=['NN', 'VB', 'ADJ', 'RB']):\n",
        "    X_pos = []\n",
        "    for text in X:\n",
        "      tokens = word_tokenize(text)\n",
        "      tokens_pos = pos_tag(tokens)\n",
        "      selected_tokens = []\n",
        "      for token, pos in tokens_pos:\n",
        "        if (pos in good_tags):\n",
        "          selected_tokens.append(token)\n",
        "      text_pos = ' '.join(selected_tokens)\n",
        "      X_pos.append(text_pos)\n",
        "    return X_pos"
      ],
      "execution_count": 0,
      "outputs": []
    },
    {
      "cell_type": "code",
      "metadata": {
        "id": "bbG8u7f9r6nU",
        "colab_type": "code",
        "outputId": "c9d5e6d6-bb4f-4c83-c99c-c450670c8945",
        "colab": {
          "base_uri": "https://localhost:8080/",
          "height": 34
        }
      },
      "source": [
        "texts_POS = pos_tag_filter(texts_reduced)\n",
        "voc, X = count_words(texts_POS)\n",
        "nb = NB()\n",
        "\n",
        "scores = cross_val_score(nb, X, y_reduced, cv=5)\n",
        "print('Classification score: %s (std %s)' % (np.mean(scores), np.std(scores)))"
      ],
      "execution_count": 34,
      "outputs": [
        {
          "output_type": "stream",
          "text": [
            "Classification score: 0.7452 (std 0.019538679586911717)\n"
          ],
          "name": "stdout"
        }
      ]
    },
    {
      "cell_type": "markdown",
      "metadata": {
        "id": "j-y901_ir6nY",
        "colab_type": "text"
      },
      "source": [
        "## Using a more complex classifier?\n",
        "\n",
        "We can use scikit-learn implementations of less naive classifiers, such as logistic regression or SVM. What is the main disadvantage of this (let's imagine that, rather than a linear model, we choose to use a neural network with several hidden layers)?"
      ]
    },
    {
      "cell_type": "code",
      "metadata": {
        "id": "-KImNfmIr6nZ",
        "colab_type": "code",
        "colab": {}
      },
      "source": [
        "from sklearn.svm import LinearSVC\n",
        "from sklearn.linear_model import LogisticRegression"
      ],
      "execution_count": 0,
      "outputs": []
    },
    {
      "cell_type": "markdown",
      "metadata": {
        "id": "Q1JgQAeClP5q",
        "colab_type": "text"
      },
      "source": [
        "We use a best representation of text obtained above which is tfidf with bigram"
      ]
    },
    {
      "cell_type": "code",
      "metadata": {
        "id": "LhBjzToJr6nd",
        "colab_type": "code",
        "outputId": "90396831-5306-40e9-a359-5166efd629ce",
        "colab": {
          "base_uri": "https://localhost:8080/",
          "height": 51
        }
      },
      "source": [
        "pipeline_logistic = Pipeline([\n",
        "    ('vect', TfidfVectorizer(analyzer='word', ngram_range=(2,2), tokenizer=clean_and_tokenize)),\n",
        "    ('clf', LogisticRegression())\n",
        "])\n",
        "scores = cross_val_score(pipeline_logistic, texts_reduced, y_reduced, cv=5)\n",
        "print(\"Classification score: %s (std %s)\" % (np.mean(scores), np.std(scores)))\n",
        "\n",
        "pipeline_svm = Pipeline([\n",
        "    ('vect', TfidfVectorizer(analyzer='word', ngram_range=(2,2), tokenizer=clean_and_tokenize)),\n",
        "    ('clf', LinearSVC())\n",
        "])\n",
        "scores = cross_val_score(pipeline_svm, texts_reduced, y_reduced, cv=5)\n",
        "print(\"Classification score: %s (std %s)\" % (np.mean(scores), np.std(scores)))"
      ],
      "execution_count": 36,
      "outputs": [
        {
          "output_type": "stream",
          "text": [
            "Classification score: 0.7968000000000002 (std 0.009346657156438346)\n",
            "Classification score: 0.8096 (std 0.011482160075525829)\n"
          ],
          "name": "stdout"
        }
      ]
    },
    {
      "cell_type": "markdown",
      "metadata": {
        "id": "c7xzZrLAltiD",
        "colab_type": "text"
      },
      "source": [
        "Comment: ???"
      ]
    },
    {
      "cell_type": "markdown",
      "metadata": {
        "id": "3WJOTW1mr6nh",
        "colab_type": "text"
      },
      "source": [
        "# Dense Representations \n",
        "\n",
        "##  Word Embeddings : Distributed representations via the distributional hypothesis \n",
        "\n",
        "**Goal**: We will try to obtain dense representations (as vectors of real numbers) of words (and possibly sentences). These representations are intended to be distributed: they are non-local representations. We represent an object as a combination of *features*, as opposed to the attribution of a dedicated symbol: see the founding work of Geoffrey Hinton, among others, on the subject: [Distributed Representations](https://web.stanford.edu/~jlmcc/papers/PDP/Chapter3.pdf).\n",
        "\n",
        "The term *distributed* representations is very general, but is what we are looking for. The challenge is therefore to be able to build, automatically, such representations.\n",
        "\n",
        "**Underlying idea**: It is based on the distributional hypothesis: contextual information is sufficient to obtain a viable representation of linguistic objects.\n",
        " - For a large class of cases [...] the meaning of a word is its use in the language.\" Wittgenstein (Philosophical Investigations, 43 - 1953)\n",
        " - You shall know a word by the company it keeps, Firth.\n",
        "\n",
        "Thus, a word can be characterized by the words that accompany it, via co-occurrence counts. Two words with a similar meaning will have a similar contextual distribution and are therefore more likely to appear in similar contexts. This hypothesis can be used as a justification for the application of statistics to semantics (information extraction, semantic analysis). It also allows some form of generalization: we can assume that the information we have about a word will be generalized to words with a similar distribution. \n",
        "\n",
        "**Motivation**: The goal is to obtain distributed representations in order to be able to effectively**:\n",
        "- Directly perform a semantic surface analysis.\n",
        "- Use it as a source of information for other language-related models and applications, especially for sentiment analysis. \n",
        "\n",
        "\n",
        "**Terminology**: Be careful not to confuse the idea of *distributed* and *distributional* representation. The latter generally indicates (for words) that the representation has been obtained strictly from co-occurrence counts, whereas additional information (document labels, part of speech tags, ...) can be used to build distributed representations. \n",
        "The models that allow to build these dense representations, in the form of vectors, are often called *vector spaces models*. These representations are also regularly called *word embeddings*, because the words are embedded in a vector space. In French, we often find the term *word embedding* or *lexical embedding*."
      ]
    },
    {
      "cell_type": "markdown",
      "metadata": {
        "id": "G7CzH4Pfr6nj",
        "colab_type": "text"
      },
      "source": [
        "## Getting representations: counts of occurrences and co-occurrences\n",
        "\n",
        "Depending on the type of corpus available, different types of distributional information can be obtained. If we have access to a collection of documents, we can thus choose to count the number of occurrences of each word in each document, to obtain a $words \\times documents$ matrix: it is on this principle that **Tf-Idf** is built. We will now look at a more general case: we have a large amount of data in text form, and we want to obtain representations of words in the form of vectors of reduced size, without the need to divide them into documents or categories. \n",
        "\n",
        "Suppose we have a corpus containing $T$ different words. We will construct a $\\mathbf{M}$ matrix of size $T \\times T$ which will contain the number of co-occurrences between words. There will be different factors to consider when constructing this matrix: \n",
        "\n",
        "- How do you define the 'context' of a word - context which will tell you what terms co-occur with that word?\n",
        "\n",
        "We can choose to use different scales: the document, the sentence, the nominal group, or simply a window of $k$ words, depending on the information we want to capture.\n",
        "\n",
        "\n",
        "- How do we quantify the importance of the counts? \n",
        "\n",
        "$\\rightarrow$ For example, we can give a decreasing weight to a co-occurrence according to the distance between the two words concerned ($\\frac{1}{d+1}$ for a separation by $d$ words).\n",
        "\n",
        "\n",
        "- Should we keep all the words that appear in the corpus? \n",
        "\n",
        "$\\rightarrow$ Usually not. We will see that for large corpora, the number $T$ of different words is huge. Second, even if the number of words is reasonable, we will have very little distributional information on the rarest words, and the representation obtained will be of poor quality. We will have to ask ourselves how to filter these words, and how to treat the words we choose not to represent.  "
      ]
    },
    {
      "cell_type": "markdown",
      "metadata": {
        "id": "Su6qGwimr6nk",
        "colab_type": "text"
      },
      "source": [
        "#### Example:\n",
        "\n",
        "Let's look at the following text:\n",
        "\n",
        "*I walked down down the boulevard. I walked down the avenue. I ran down the boulevard. I walk down the city. I walk down the the avenue.*\n",
        "\n",
        "We choose to define the context of a word as the sentence to which it belongs, and to not use any weighting.\n",
        "We obtain the following matrix: \n",
        "\n",
        "|     *         | I | the | down | walked | boulevard | avenue | walk | ran | city |\n",
        "|---------------|---|-----|------|--------|-----------|--------|------|-----|------|\n",
        "| I             | 0 |      6 |    6 |   2 |         2 |      2 |   2 |    1 |    1 |\n",
        "| the           | 6 |      2 |    7 |   2 |         2 |      3 |   3 |    1 |    1 |\n",
        "| down          | 6 |      7 |    2 |   3 |         3 |      2 |   2 |    1 |    1 |\n",
        "| walked        | 2 |      2 |    3 |   0 |         1 |      1 |   0 |    0 |    0 |\n",
        "| boulevard     | 2 |      2 |    3 |   1 |         0 |      0 |   0 |    1 |    0 |\n",
        "| avenue        | 2 |      3 |    2 |   1 |         0 |      0 |   1 |    0 |    0 |\n",
        "| ran           | 2 |      3 |    2 |   0 |         0 |      1 |   0 |    0 |    1 |\n",
        "| walk          | 1 |      1 |    1 |   0 |         1 |      0 |   0 |    0 |    0 |\n",
        "| city          | 1 |      1 |    1 |   0 |         0 |      0 |   1 |    0 |    1 |"
      ]
    },
    {
      "cell_type": "markdown",
      "metadata": {
        "id": "gzpZAqDrr6nl",
        "colab_type": "text"
      },
      "source": [
        "## Modifying the representations:\n",
        "\n",
        "We may want to alter the representations to obtain better features - depending on what use we will have for them.\n",
        "\n",
        "**Normalization**: Very easy: we want to cancel the influence of the magnitude of the counts on the representation.\n",
        "\n",
        "$$\\mathbf{m_{normalized}} = \\left[ \n",
        "   \\frac{m_{1}}{\\sum_{i=1}^{n}m_{i}}, \n",
        "   \\frac{m_{2}}{\\sum_{i=1}^{n}m_{i}}, \n",
        "   \\ldots\n",
        "   \\frac{m_{n}}{\\sum_{i=1}^{n}m_{i}}, \n",
        "\\right]$$\n",
        " \n",
        "**Pointwise Mutual Information**: The aim is to assess the extent to which the co-occurrence of the two terms is *unexpected*. This measure is the ratio of the joint probability of the two words and the product of their individual probabilities:\n",
        "$$\n",
        "\\text{PMI}(x,y) = \\log \\left( \\frac{P(x,y)}{P(x)P(y)} \\right)\n",
        "$$\n",
        "The joint probability of the two words corresponds to the number of times they are observed together, divided by the total number of co-occurrences in the corpus: \n",
        "$$ P(\\mathbf{M},w_{1},w_{2}) = \\frac{M_{w_{1},w_{2}}}{\\sum_{i=1}^{n}\\sum_{j=1}^{n} M_{i,j}} $$\n",
        "The individual probability of a word simply corresponds to its frequency, which can be calculated by counting all co-occurrences where that word appears:\n",
        "$$ P(\\mathbf{M},w) = \\frac{\\sum_{j=1}^{m} M_{w,j}}{\\sum_{i=1}^{n}\\sum_{j=1}^{n} M_{i,j}} $$\n",
        "Hence,\n",
        "$$ \n",
        "\\text{PMI}(\\mathbf{M},w_{1},w_{2}) = \\log  \\frac{M_{w_{1},w_{2}} \\times \\left( \\sum_{i=1}^{n}\\sum_{j=1}^{n} M_{i,j} \\right)}{\\left( \\sum_{j=1}^{n} M_{w_{1},j} \\right) \\times \\left( \\sum_{i=1}^{n}M_{i,w_{2}} \\right)} \n",
        "$$\n",
        "We thus calculate the discrepancy between the observation we have made in our corpus and the frequency of appearance of these terms if we consider them independent - i.e. we assume that their co-occurrence is a coincidence.\n",
        "\n",
        "The main problem with this measure is that it is not adapted to the case where no co-occurrence is observed. Since the PMI is supposed to return a positive quantity if more co-occurrences are observed than expected, and a negative quantity if fewer co-occurrences are observed, we cannot choose to replace $\\log(0)$ by $0$. A commonly used solution is to use the **Positive PMI**, which sets all negative values to $0$.\n",
        " \n",
        " $$\\text{PPMI}(\\mathbf{M},w_{1},w_{2}) = \n",
        " \\begin{cases}\n",
        " \\text{PMI}(\\mathbf{M},w_{1},w_{2}) & \\textrm{if } \\text{PMI}(\\mathbf{M},w_{1},w_{2}) > 0 \\\\\n",
        " 0 & \\textrm{otherwise}\n",
        " \\end{cases}$$\n",
        " \n",
        " **TF-IDF**: As noted earlier, this is the product of the frequency of the term (TF) and its inverse frequency in the documents (IDF). \n",
        "This method is usually used to extract the importance of a term $i$ in a document $j$ relative to the rest of the corpus, from a $terms \\times documents$ matrix. Thus, for a matrix $\\mathbf{X}$ of $n$ terms and $d$ documents: \n",
        "\n",
        " $$\\text{TF}(X, i, j) = \\frac{X_{i,j}}{\\sum_{i=1}^{t} X_{i,j}} $$\n",
        " \n",
        " $$\\text{IDF}(X, i) = \\log\\left(\\frac{d}{|\\{j : X_{i,j} > 0\\}|}\\right)$$\n",
        " \n",
        " $$\\text{TF-IDF}(X, i, j) = \\text{TF}(X, i, j) \\cdot \\text{IDF}(X, i)$$\n",
        "\n",
        "\n",
        "It can be adapted to our case by considering that the context of the second word is the document. However, TF-IDF is generally better suited to low-density matrices, since it will penalize terms that appear in a large part of the documents. Thus, applying it to the co-occurrences of the most frequent words is a priori not optimal."
      ]
    },
    {
      "cell_type": "markdown",
      "metadata": {
        "id": "7FTvD42Jr6nm",
        "colab_type": "text"
      },
      "source": [
        "### Co-occurences matrix : reducing the dimension\n",
        "\n",
        "#### Motivation\n",
        "\n",
        "The aim is not only to reduce the size of the data (thus, we will deal with vectors of reduced dimensions, rather than working with vectors of the size of the vocabulary) but also to highlight higher level relationships between words: by reducing their representations to the *most important* dimensions of the data, we *generalize* certain properties between words.\n",
        "\n",
        "#### Dimension reduction via SVD \n",
        "\n",
        "A matrix is a linear transformation: applying an SVD to it means decomposing our linear transformation into a product of linear transformations of different types. In fact, we will change the basis of our vector, and replace our data in a space where each of the coordinates are unchanged by the transformation carried out. Thus, we decompose the matrix $\\mathbf{M}$ into three matrices:\n",
        "\n",
        "$$ \\mathbf{M} = \\mathbf{U} \\mathbf{\\lambda} \\mathbf{V}^{\\text{T}} $$\n",
        "\n",
        "Matrices $\\mathbf{U}$, $\\mathbf{\\lambda}$, et $\\mathbf{V}$ have the following properties:\n",
        "- $\\mathbf{U}$ and $\\mathbf{V}$ are orthogonal matrices ($\\mathbf{U}^{\\text{T}} = \\mathbf{U}^{-1}$ and $\\mathbf{V}^{\\text{T}} = \\mathbf{V}^{-1}$). They contain the eigen vectors to the right and to the left of $\\mathbf{M}$.\n",
        "- $\\mathbf{\\lambda}$ is a diagonal matrix: careful, it's not necessarily square. Values on the diagonal are the eigenvalues of $\\mathbf{M}$.\n",
        "\n",
        "Thus, the *most important* dimensions correspond to the largest eigenvalues. Reducing our data to $k$ dimensions corresponds to keeping only the vectors corresponding to the first $k$ eigenvalues - and this is equivalent to taking the first $k$ vectors of the $U$ matrix. \n",
        "\n",
        "Note: When we apply this method to the matrix of $\\mathbf{M}$ counts of dimension $T \\times D$, where $\\mathbf{M}_{t,d}$ contains the number of occurrences of the word $t$ in the document $d$, we obtain the method called **Latent Semantic Analysis**, for the detection of latent (semantic) components allowing the grouping of documents.  "
      ]
    },
    {
      "cell_type": "markdown",
      "metadata": {
        "id": "8oODOyKOr6nm",
        "colab_type": "text"
      },
      "source": [
        "### In practice: get a Vocabulary.\n",
        "\n",
        "*   List item\n",
        "*   List item\n",
        "\n",
        "\n",
        "\n",
        "To begin, we will implement separately a function returning the vocabulary. Here we will have to be able to control its size, either by indicating a maximum number of words, or a minimum number of occurrences to take the words into account. We add, at the end, an \"unknown\" word that will replace all the words that do not appear in our \"limited\" vocabulary. "
      ]
    },
    {
      "cell_type": "code",
      "metadata": {
        "id": "mGU_Vvrnr6nn",
        "colab_type": "code",
        "colab": {}
      },
      "source": [
        "def vocabulary(corpus, count_threshold=1, voc_threshold=0):\n",
        "    \"\"\"    \n",
        "    Function using word counts to build a vocabulary - can be improved with a second parameter for \n",
        "    setting a frequency threshold\n",
        "    Params:\n",
        "        corpus (list of strings): corpus of sentences\n",
        "        count_threshold (int): number of occurences necessary for a word to be included in the vocabulary\n",
        "        voc_threshold (int): maximum size of the vocabulary \n",
        "    Returns:\n",
        "        vocabulary (dictionary): keys: list of distinct words across the corpus\n",
        "                                 values: indexes corresponding to each word sorted by frequency   \n",
        "        vocabulary_word_counts (dictionary): keys: list of distinct words across the corpus\n",
        "                                             values: corresponding counts of words in the corpus\n",
        "    \"\"\"\n",
        "    word_counts = dict()\n",
        "    for text in corpus:\n",
        "      words = clean_and_tokenize(text)\n",
        "      for word in words:\n",
        "        if word in word_counts:\n",
        "          word_counts[word] += 1\n",
        "        else:\n",
        "          word_counts[word] = 1\n",
        "    # sort vocabulary by occurences\n",
        "    word_counts_sorted = sorted(word_counts.items(), key=lambda item: item[1], reverse=True)\n",
        "    # filter by min number of ocurrences, filtered_word_counts is a list of tuple\n",
        "    filtered_word_counts = []\n",
        "    filtered_out_word_counts = []\n",
        "    for k,v in word_counts_sorted:\n",
        "      if (v >= count_threshold):\n",
        "        filtered_word_counts.append((k,v))\n",
        "      else:\n",
        "        filtered_out_word_counts.append((k,v))\n",
        "\n",
        "    # filter by max vocabulary size\n",
        "    # with default value voc_threshold=0, we do nothing\n",
        "    if (voc_threshold > 0):\n",
        "      if (voc_threshold < len(filtered_word_counts)):\n",
        "        filtered_out_word_counts = filtered_out_word_counts + filtered_word_counts[voc_threshold:]\n",
        "        filtered_word_counts = filtered_word_counts[:voc_threshold]\n",
        "\n",
        "    # construct the vocabulary\n",
        "    words = [k for k,v in filtered_word_counts]\n",
        "    words.append('UNK')\n",
        "    values = [v for k,v in filtered_word_counts]\n",
        "    unk_occurences = sum([v for k,v in filtered_out_word_counts])\n",
        "    values.append(unk_occurences)\n",
        "\n",
        "    vocabulary = dict(zip(words, np.arange(len(words))))\n",
        "    vocabulary_word_counts = dict(zip(words, values))\n",
        "    return vocabulary, vocabulary_word_counts"
      ],
      "execution_count": 0,
      "outputs": []
    },
    {
      "cell_type": "code",
      "metadata": {
        "id": "GdxH8Koor6ns",
        "colab_type": "code",
        "outputId": "43761681-24b2-4d81-89b9-37850ab0d7cc",
        "colab": {
          "base_uri": "https://localhost:8080/",
          "height": 85
        }
      },
      "source": [
        "# Example for testing:\n",
        "\n",
        "corpus = ['I walked down down the boulevard',\n",
        "          'I walked down the avenue',\n",
        "          'I ran down the boulevard',\n",
        "          'I walk down the city',\n",
        "          'I walk down the the avenue']\n",
        "\n",
        "voc, counts = vocabulary(corpus, count_threshold = 3)\n",
        "print(voc)\n",
        "print(counts)\n",
        "\n",
        "# We expect something like this:\n",
        "# (In this example, we don't count 'UNK' unknown words, but you can if you want to. \n",
        "# How useful it may be depends on the data -> we will use the counts later with word2vec, keep that in mind) \n",
        "#  {'down': 0, 'the': 1, 'i': 2, 'UNK': 3}\n",
        "#  {'down': 6, 'the': 6, 'i': 5, 'UNK': 0}\n",
        "\n",
        "voc, counts = vocabulary(corpus)\n",
        "print(voc)\n",
        "print(counts)\n",
        "\n",
        "# We expect something like this:\n",
        "#  {'down': 0, 'the': 1, 'i': 2, 'walked': 3, 'boulevard': 4, 'avenue': 5, 'walk': 6, 'ran': 7, 'city': 8, 'UNK': 9}\n",
        "#  {'down': 6, 'the': 6, 'i': 5, 'walked': 2, 'boulevard': 2, 'avenue': 2, 'walk': 2, 'ran': 1, 'city': 1, 'UNK': 0}"
      ],
      "execution_count": 97,
      "outputs": [
        {
          "output_type": "stream",
          "text": [
            "{'down': 0, 'the': 1, 'i': 2, 'UNK': 3}\n",
            "{'down': 6, 'the': 6, 'i': 5, 'UNK': 10}\n",
            "{'down': 0, 'the': 1, 'i': 2, 'walked': 3, 'boulevard': 4, 'avenue': 5, 'walk': 6, 'ran': 7, 'city': 8, 'UNK': 9}\n",
            "{'down': 6, 'the': 6, 'i': 5, 'walked': 2, 'boulevard': 2, 'avenue': 2, 'walk': 2, 'ran': 1, 'city': 1, 'UNK': 0}\n"
          ],
          "name": "stdout"
        }
      ]
    },
    {
      "cell_type": "markdown",
      "metadata": {
        "id": "RZaV0QvKr6nv",
        "colab_type": "text"
      },
      "source": [
        "#### Application to a real data set\n",
        "\n",
        "We're going to work with the **imdb** data.\n",
        "\n",
        "#### Quick study of the data\n",
        "\n",
        "We would like to get an idea of what's in these film reviews before we proceed. So we'll get the vocabulary (in full) and represent the frequencies of the words, in order (be careful, you'll have to use a logarithmic scale): we should find back Zipf's law. This will give us an idea of the size of the vocabulary we will be able to choose: it's a matter of making a compromise between the necessary resources (size of the objects in memory) and the amount of information we can get from them (rare words can bring a lot of information, but it's difficult to learn good representations of them, because they are rare!).  "
      ]
    },
    {
      "cell_type": "code",
      "metadata": {
        "id": "w8B7DxGIr6nw",
        "colab_type": "code",
        "colab": {
          "base_uri": "https://localhost:8080/",
          "height": 717
        },
        "outputId": "46c27965-949a-4b4e-b80f-1fb6427ddf3d"
      },
      "source": [
        "# We would like to display the curve of word frequencies given their rank (index) in the vocabulary\n",
        "vocab, word_counts = vocabulary(texts)\n",
        "ranks = np.arange(1, len(vocab)+1)\n",
        "counts = list(word_counts.values())\n",
        "\n",
        "plt.figure(figsize=(20,5))\n",
        "plt.title('Word counts versus rank')\n",
        "plt.plot(ranks, counts)\n",
        "plt.yscale('log')\n",
        "plt.xlabel(\"Rank\")\n",
        "plt.ylabel(\"Log count\")\n",
        "plt.show()\n",
        "\n",
        "# We would like to know how much of the data is represented by the 'k' most frequent words\n",
        "print('Vocabulary size: %i' % len(vocab))\n",
        "\n",
        "print('Part of the corpus by taking the \"5000\" most frequent words')\n",
        "plt.figure(figsize=(10,5))\n",
        "plt.title('Word counts versus rank, taking 5000 words')\n",
        "plt.plot(ranks[:5000], counts[:5000])\n",
        "plt.yscale('log')\n",
        "plt.xlabel(\"Rank\")\n",
        "plt.ylabel(\"Log count\")\n",
        "plt.show()"
      ],
      "execution_count": 100,
      "outputs": [
        {
          "output_type": "display_data",
          "data": {
            "image/png": "[encoded data removed]",
            "text/plain": [
              "<Figure size 1440x360 with 1 Axes>"
            ]
          },
          "metadata": {
            "tags": [],
            "needs_background": "light"
          }
        },
        {
          "output_type": "stream",
          "text": [
            "Vocabulary size: 91725\n",
            "Part of the corpus by taking the \"5000\" most frequent words\n"
          ],
          "name": "stdout"
        },
        {
          "output_type": "display_data",
          "data": {
            "image/png": "[encoded data removed]",
            "text/plain": [
              "<Figure size 720x360 with 1 Axes>"
            ]
          },
          "metadata": {
            "tags": [],
            "needs_background": "light"
          }
        }
      ]
    },
    {
      "cell_type": "markdown",
      "metadata": {
        "id": "SRhH7SlMr6n0",
        "colab_type": "text"
      },
      "source": [
        "Result of the analysis: you should find that we can be satisfied with 10,000 or even 5,000 words - this is important, because it will determine the size of the objects we will manipulate. "
      ]
    },
    {
      "cell_type": "code",
      "metadata": {
        "id": "NFBiWEgYr6n1",
        "colab_type": "code",
        "colab": {}
      },
      "source": [
        "vocab_5k, word_counts_5k = vocabulary(texts, 0, 5000)"
      ],
      "execution_count": 0,
      "outputs": []
    },
    {
      "cell_type": "code",
      "metadata": {
        "id": "FFdCXwKFr6n6",
        "colab_type": "code",
        "colab": {
          "base_uri": "https://localhost:8080/",
          "height": 34
        },
        "outputId": "9c3deb37-4e00-47ae-a7f3-4b9ec83c9340"
      },
      "source": [
        "print(vocab_5k['cinema'])"
      ],
      "execution_count": 109,
      "outputs": [
        {
          "output_type": "stream",
          "text": [
            "428\n"
          ],
          "name": "stdout"
        }
      ]
    },
    {
      "cell_type": "markdown",
      "metadata": {
        "id": "28mVkTE5r6oC",
        "colab_type": "text"
      },
      "source": [
        "We could here compute the co-occurence matrix, and then reduce its dimension. Instead, we will use two of the most popular methods used to produce dense word representations (word embeddings). These methods are very different in practice, but are conceptually close, and resemble the procedure described earlier: reducing the dimension of co-occurences metrics.\n",
        "\n",
        "## Getting a representation: commonly used algorithms\n",
        "\n",
        "The idea here is to define a set of representations ${w_{i}}_{i=1}^{V}$, of predefined dimension $d$ (here, we will work with $d = 300$), for all the words $i$ of the vocabulary $V$ - then **train** these representations to match what we want. "
      ]
    },
    {
      "cell_type": "markdown",
      "metadata": {
        "id": "xT_82b48r6oD",
        "colab_type": "text"
      },
      "source": [
        "### Word2Vec\n",
        "\n",
        "\n",
        "####  The skip-gram model\n",
        "\n",
        "The basic skip-gram model estimates the probabilities of a pair of words $(i, j)$ to appear together in data:\n",
        "\n",
        "$$P(j \\mid i) = \\frac{\\exp(w_{i} c_{j})}{\\sum_{j'\\in V}\\exp(w_{i} c_{j'})}$$\n",
        "\n",
        "\n",
        "where $w_{i}$ is the lign vector (of the word) $i$ and $c_{j}$ is the column vector (of a context word) $j$. The objective is to minimize the following quantity:\n",
        "\n",
        "\n",
        "$$ -\\sum_{i=1}^{m} \\sum_{k=1}^{|V|} \\textbf{1}\\{o_{i}=k\\} \\log \\frac{\\exp(w_{i} c_{k})}{\\sum_{j=1}^{|V|} \\exp(w_{i} c_{j})}$$\n",
        "\n",
        "\n",
        "where $V$ is the vocabulary.\n",
        "The inputs $w_{i}$ are the representations of the words, which are updated during training, and the output is an *one-hot* $o$ vector, which contains only one $1$ and $0$. For example, if `good` is the 47th word in the vocabulary, the output $o$ for an example or `good` is the word to predict will consist of $0$s everywhere except $1$ in the 47th position of the vector. `good` will be the word to predict when the input $w$ is a word in its context.\n",
        "We therefore obtain this output with standard softmax - we add a bias term $b$ .\n",
        "\n",
        "\n",
        "$$ o = \\textbf{softmax}(w_{a}C + b)$$\n",
        "\n",
        "\n",
        "If we use the set of representations for the whole vocabulary (the matrix $W$) as input, we get:\n",
        "\n",
        "\n",
        "$$ O = \\textbf{softmax}(WC + b)$$\n",
        "\n",
        "\n",
        "and so we come back to the central idea of all our methods: we seek to obtain word representations from co-occurrence counts. Here, we train the parameters contained in $W$ and $C$, two matrices representing the words in reduced dimension (300) so that their scalar product is as close as possible to the co-occurrences observed in the data, using a maximum likelihood objective.\n",
        "\n",
        "#### Skip-gram with negative sampling\n",
        "\n",
        "The training of the skip-gram model implies to calculate a sum on the whole vocabulary, because of the **softmax**. As soon as the size of the vocabulary increases, it becomes impossible to compute. In order to make the calculations faster, we change the objective and use the method of *negative sampling* (or, very close to it, the *noise contrastive estimation*).\n",
        "\n",
        "\n",
        "If we note $\\mathcal{D}$ the data set and we note $\\mathcal{D}'$ a set of pairs of words that are **not** in the data (and that in practice, we draw randomly), the objective is:\n",
        "\n",
        "\n",
        "$$\\sum_{i, j \\in \\mathcal{D}}-\\log\\sigma(w_{i}c_{j}) + \\sum_{i, j \\in \\mathcal{D}'}\\log\\sigma(w_{i}c_{j})$$\n",
        "\n",
        "\n",
        "where $\\sigma$ is the sigmoid activation function $\\frac{1}{1 + \\exp(-x)}$.\n",
        "A common practice is to generate pairs from $\\mathcal{D}'$ in proportion to the frequencies of the words in the training data (the so-called unigram distribution):\n",
        "\n",
        "\n",
        "$$P(w) = \\frac{\\textbf{T}(w)^{0.75}}{\\sum_{w'\\in V} \\textbf{T}(w')}$$\n",
        "\n",
        "\n",
        "Although different, this new objective function is a sufficient approximation of the previous one, and is based on the same principle. Much research has been done on this objective: for example, [Levy and Golberg 2014](http://papers.nips.cc/paper/5477-neural-word-embedding-as-implicit-matrix-factorization) shows that the objective calculates the PMI matrix shifted by a constant value. One can also see [Cotterell et al. 2017](https://aclanthology.coli.uni-saarland.de/papers/E17-2028/e17-2028) for an interpretation of the algorithm as a variant of PCA."
      ]
    },
    {
      "cell_type": "markdown",
      "metadata": {
        "id": "jKmN-mOwr6oE",
        "colab_type": "text"
      },
      "source": [
        "We will use the ```gensim``` library for its implementation of word2vec in python. We'll have to make a specific use of it, since we want to keep the same vocabulary as before: we'll first create the class, then get the vocabulary we generated above. \n",
        "To avoid having to put all the data in memory all at once, we define a generator, which will take all the input data and pre-process it, and return to the ```Word2Vec``` class sentence by sentence. "
      ]
    },
    {
      "cell_type": "code",
      "metadata": {
        "id": "E4webh5_r6oF",
        "colab_type": "code",
        "colab": {}
      },
      "source": [
        "from gensim.models import Word2Vec\n",
        "\n",
        "# Creates the Word2Vec model with the relevant parameters\n",
        "model = Word2Vec(size=300,\n",
        "                 window=5,\n",
        "                 iter=30)\n",
        "\n",
        "# Get the vocabulary from the counts we created earlier\n",
        "model.build_vocab_from_freq(word_counts_5k)"
      ],
      "execution_count": 0,
      "outputs": []
    },
    {
      "cell_type": "code",
      "metadata": {
        "id": "ctWuvng1r6oJ",
        "colab_type": "code",
        "colab": {}
      },
      "source": [
        "def preprocess_generator(large_corpus):\n",
        "    for line in large_corpus:\n",
        "        yield clean_and_tokenize(line)"
      ],
      "execution_count": 0,
      "outputs": []
    },
    {
      "cell_type": "code",
      "metadata": {
        "id": "QrX3BL5Gr6oO",
        "colab_type": "code",
        "colab": {
          "base_uri": "https://localhost:8080/",
          "height": 34
        },
        "outputId": "f49f0bad-06e3-4a79-cd10-091de481b311"
      },
      "source": [
        "model.train(preprocess_generator(corpus[:]), total_examples=10, epochs=30, report_delay=1)"
      ],
      "execution_count": 112,
      "outputs": [
        {
          "output_type": "execute_result",
          "data": {
            "text/plain": [
              "(15, 27)"
            ]
          },
          "metadata": {
            "tags": []
          },
          "execution_count": 112
        }
      ]
    },
    {
      "cell_type": "code",
      "metadata": {
        "id": "FdcID0nFr6oU",
        "colab_type": "code",
        "colab": {}
      },
      "source": [
        "W2VEmbeddings = model.wv.vectors"
      ],
      "execution_count": 0,
      "outputs": []
    },
    {
      "cell_type": "markdown",
      "metadata": {
        "id": "XL0ZMiuir6oZ",
        "colab_type": "text"
      },
      "source": [
        "### Glove\n",
        "\n",
        "The objective defined by Glove ([Pennington et al. (2014)](http://www.aclweb.org/anthology/D/D14/D14-1162.pdf)) is to learn from the vectors $w_{i}$ and $w_{k}$ so that their scalar product corresponds to the logarithm of their **Pointwise Mutual Information**: \n",
        "\n",
        "\n",
        "$$ w_{i}^\\top w_{k} = (PMI(w_{i}, w_{k}))$$\n",
        "\n",
        "\n",
        "In the article, this objective is carefully justified by a reasoning about the operations one wants to perform with these vectors and the properties they should have - in particular, symmetry between rows and columns (see the article for more details).  \n",
        "The final goal obtained is the following, where $M$ is the co-occurrence matrix:\n",
        "\n",
        "\n",
        "$$\\sum_{i, j=1}^{|V|} f\\left(M_{ij}\\right)\n",
        "  \\left(w_i^\\top w_j + b_i + b_j - \\log M_{ij}\\right)^2$$\n",
        "  \n",
        " \n",
        "Here, $f$ is a *scaling* function that reduces the importance of the most frequent co-occurrence counts: \n",
        "\n",
        "\n",
        "$$f(x) \n",
        "\\begin{cases}\n",
        "(x/x_{\\max})^{\\alpha} & \\textrm{if } x < x_{\\max} \\\\\n",
        "1 & \\textrm{otherwise}\n",
        "\\end{cases}$$\n",
        "\n",
        "\n",
        "Usually, we choose $\\alpha=0.75$ and $x_{\\max} = 100$, although these parameters may need to be changed depending on the data."
      ]
    },
    {
      "cell_type": "markdown",
      "metadata": {
        "id": "Byfcu7ber6oZ",
        "colab_type": "text"
      },
      "source": [
        "The following code uses the gensim API to retrieve pre-trained representations (It is normal that the loading is long)."
      ]
    },
    {
      "cell_type": "code",
      "metadata": {
        "id": "9XqNHUv3r6oa",
        "colab_type": "code",
        "colab": {
          "base_uri": "https://localhost:8080/",
          "height": 88
        },
        "outputId": "d6f24131-a185-4659-ecb5-82f940cb212e"
      },
      "source": [
        "import gensim.downloader as api\n",
        "loaded_glove_model = api.load(\"glove-wiki-gigaword-300\")"
      ],
      "execution_count": 76,
      "outputs": [
        {
          "output_type": "stream",
          "text": [
            "[==================================================] 100.0% 376.1/376.1MB downloaded\n"
          ],
          "name": "stdout"
        },
        {
          "output_type": "stream",
          "text": [
            "/usr/local/lib/python3.6/dist-packages/smart_open/smart_open_lib.py:253: UserWarning: This function is deprecated, use smart_open.open instead. See the migration notes for details: https://github.com/RaRe-Technologies/smart_open/blob/master/README.rst#migrating-to-the-new-open-function\n",
            "  'See the migration notes for details: %s' % _MIGRATION_NOTES_URL\n"
          ],
          "name": "stderr"
        }
      ]
    },
    {
      "cell_type": "markdown",
      "metadata": {
        "id": "dyHdbA62r6oe",
        "colab_type": "text"
      },
      "source": [
        "We can extract the embedding matrix this way, and check its size:"
      ]
    },
    {
      "cell_type": "code",
      "metadata": {
        "id": "SpYHtcD2r6oh",
        "colab_type": "code",
        "colab": {
          "base_uri": "https://localhost:8080/",
          "height": 34
        },
        "outputId": "0e0ad575-cbb6-4718-ca1c-08fc27cf0571"
      },
      "source": [
        "loaded_glove_embeddings = loaded_glove_model.vectors\n",
        "print(loaded_glove_embeddings.shape)"
      ],
      "execution_count": 77,
      "outputs": [
        {
          "output_type": "stream",
          "text": [
            "(400000, 300)\n"
          ],
          "name": "stdout"
        }
      ]
    },
    {
      "cell_type": "markdown",
      "metadata": {
        "id": "Ziab0BR6r6om",
        "colab_type": "text"
      },
      "source": [
        "We can see that there are $400,000$ words represented, and that the embeddings are of size $300$. We define a function that returns, from the loaded model, the vocabulary and the embedding matrix according to the structures we used before. We add, here again, an unknown word \"UNK\" in case there are words in our data that are not part of the $400,000$ words represented here. "
      ]
    },
    {
      "cell_type": "code",
      "metadata": {
        "id": "VkLWYA1qr6on",
        "colab_type": "code",
        "colab": {}
      },
      "source": [
        "def get_glove_voc_and_embeddings(glove_model):\n",
        "    voc = {word : index for word, index in enumerate(glove_model.index2word)}\n",
        "    voc['UNK'] = len(voc)\n",
        "    embeddings = glove_model.vectors\n",
        "    return voc, embeddings"
      ],
      "execution_count": 0,
      "outputs": []
    },
    {
      "cell_type": "code",
      "metadata": {
        "id": "ZkT_Vw0Wr6or",
        "colab_type": "code",
        "colab": {}
      },
      "source": [
        "loaded_glove_voc, loaded_glove_embeddings = get_glove_voc_and_embeddings(loaded_glove_model)"
      ],
      "execution_count": 0,
      "outputs": []
    },
    {
      "cell_type": "markdown",
      "metadata": {
        "id": "B8b5282Vr6ow",
        "colab_type": "text"
      },
      "source": [
        "In order to compare the representations loaded here and the ones produced with word2vec, the same vocabulary should be used. For this purpose, I reuse the following code to create a $5000$ word vocabulary from the data, and I add at the end a function that returns the matrix of representations loaded with Glove for these $5000$ words only, in the right order. "
      ]
    },
    {
      "cell_type": "code",
      "metadata": {
        "id": "w-sdlD8or6ow",
        "colab_type": "code",
        "colab": {}
      },
      "source": [
        "def get_glove_adapted_embeddings(glove_model, input_voc):\n",
        "    keys = {i: glove_model.vocab.get(w, None) for w, i in input_voc.items()}\n",
        "    index_dict = {i: key.index for i, key in keys.items() if key is not None}\n",
        "    embeddings = np.zeros((len(input_voc),glove_model.vectors.shape[1]))\n",
        "    for i, ind in index_dict.items():\n",
        "        embeddings[i] = glove_model.vectors[ind]\n",
        "    return embeddings"
      ],
      "execution_count": 0,
      "outputs": []
    },
    {
      "cell_type": "code",
      "metadata": {
        "id": "-PCuGTqNr6o1",
        "colab_type": "code",
        "colab": {}
      },
      "source": [
        "GloveEmbeddings = get_glove_adapted_embeddings(loaded_glove_model, vocab_5k)"
      ],
      "execution_count": 0,
      "outputs": []
    },
    {
      "cell_type": "markdown",
      "metadata": {
        "id": "hz8XHmJ3r6o5",
        "colab_type": "text"
      },
      "source": [
        "This function takes as input the model loaded using the Gensim API, as well as a vocabulary we created ourselves, and returns the embedding matrix from the loaded model, for the words in our vocabulary and in the right order.\n",
        "Note: unknown words are represented by a vector of zeros:"
      ]
    },
    {
      "cell_type": "code",
      "metadata": {
        "id": "U8jdTVcmr6o6",
        "colab_type": "code",
        "colab": {
          "base_uri": "https://localhost:8080/",
          "height": 340
        },
        "outputId": "aad297f0-ff23-4ebb-bf20-a15919a4868d"
      },
      "source": [
        "print(GloveEmbeddings.shape)\n",
        "GloveEmbeddings[vocab_5k['UNK']]"
      ],
      "execution_count": 118,
      "outputs": [
        {
          "output_type": "stream",
          "text": [
            "(5001, 300)\n"
          ],
          "name": "stdout"
        },
        {
          "output_type": "execute_result",
          "data": {
            "text/plain": [
              "array([0., 0., 0., 0., 0., 0., 0., 0., 0., 0., 0., 0., 0., 0., 0., 0., 0.,\n",
              "       0., 0., 0., 0., 0., 0., 0., 0., 0., 0., 0., 0., 0., 0., 0., 0., 0.,\n",
              "       0., 0., 0., 0., 0., 0., 0., 0., 0., 0., 0., 0., 0., 0., 0., 0., 0.,\n",
              "       0., 0., 0., 0., 0., 0., 0., 0., 0., 0., 0., 0., 0., 0., 0., 0., 0.,\n",
              "       0., 0., 0., 0., 0., 0., 0., 0., 0., 0., 0., 0., 0., 0., 0., 0., 0.,\n",
              "       0., 0., 0., 0., 0., 0., 0., 0., 0., 0., 0., 0., 0., 0., 0., 0., 0.,\n",
              "       0., 0., 0., 0., 0., 0., 0., 0., 0., 0., 0., 0., 0., 0., 0., 0., 0.,\n",
              "       0., 0., 0., 0., 0., 0., 0., 0., 0., 0., 0., 0., 0., 0., 0., 0., 0.,\n",
              "       0., 0., 0., 0., 0., 0., 0., 0., 0., 0., 0., 0., 0., 0., 0., 0., 0.,\n",
              "       0., 0., 0., 0., 0., 0., 0., 0., 0., 0., 0., 0., 0., 0., 0., 0., 0.,\n",
              "       0., 0., 0., 0., 0., 0., 0., 0., 0., 0., 0., 0., 0., 0., 0., 0., 0.,\n",
              "       0., 0., 0., 0., 0., 0., 0., 0., 0., 0., 0., 0., 0., 0., 0., 0., 0.,\n",
              "       0., 0., 0., 0., 0., 0., 0., 0., 0., 0., 0., 0., 0., 0., 0., 0., 0.,\n",
              "       0., 0., 0., 0., 0., 0., 0., 0., 0., 0., 0., 0., 0., 0., 0., 0., 0.,\n",
              "       0., 0., 0., 0., 0., 0., 0., 0., 0., 0., 0., 0., 0., 0., 0., 0., 0.,\n",
              "       0., 0., 0., 0., 0., 0., 0., 0., 0., 0., 0., 0., 0., 0., 0., 0., 0.,\n",
              "       0., 0., 0., 0., 0., 0., 0., 0., 0., 0., 0., 0., 0., 0., 0., 0., 0.,\n",
              "       0., 0., 0., 0., 0., 0., 0., 0., 0., 0., 0.])"
            ]
          },
          "metadata": {
            "tags": []
          },
          "execution_count": 118
        }
      ]
    },
    {
      "cell_type": "markdown",
      "metadata": {
        "id": "u-4ab0Q5r6o9",
        "colab_type": "text"
      },
      "source": [
        "### Comparing vectors\n",
        "\n",
        "These very large vectors can be used for a very basic semantic analysis: for example, by searching for the closest neighbors of a word. However, one must be careful with the distances used, related to certain metrics (Euclidean, Cosine) or possibly others related to belonging to sets (Matching, Jaccard). The normalization of vectors can also play a role. In any case, care must be taken not to over-interpret such results. "
      ]
    },
    {
      "cell_type": "code",
      "metadata": {
        "id": "5rPRfOCzr6o-",
        "colab_type": "code",
        "colab": {
          "base_uri": "https://localhost:8080/",
          "height": 187
        },
        "outputId": "11a5d064-fb37-4584-dcb0-64c10924b37c"
      },
      "source": [
        "def euclidean(u, v):\n",
        "    return np.linalg.norm(u-v)\n",
        "\n",
        "def length_norm(u):\n",
        "    return u / np.sqrt(u.dot(u))\n",
        "\n",
        "def cosine(u, v):\n",
        "    return 1.0 - length_norm(u).dot(length_norm(v))\n",
        "\n",
        "from sklearn.neighbors import NearestNeighbors\n",
        "\n",
        "def print_neighbors(distance, voc, co_oc, mot, k=10):\n",
        "    inv_voc = {id: w for w, id in voc.items()}\n",
        "    neigh = NearestNeighbors(k, algorithm='brute', metric=distance)\n",
        "    neigh.fit(co_oc) \n",
        "    dist, ind = neigh.kneighbors([co_oc[voc[mot]]])\n",
        "    print(\"Closest neighbors of %s by distance '%s': \" % (mot, distance.__name__))\n",
        "    print([[inv_voc[i] for i in s[1:]] for s in ind])\n",
        "    \n",
        "print_neighbors(euclidean, vocab_5k, W2VEmbeddings, 'good')\n",
        "print_neighbors(cosine, vocab_5k, W2VEmbeddings, 'good')\n",
        "\n",
        "print_neighbors(euclidean, vocab_5k, GloveEmbeddings, 'good')\n",
        "print_neighbors(cosine, vocab_5k, GloveEmbeddings, 'good')"
      ],
      "execution_count": 120,
      "outputs": [
        {
          "output_type": "stream",
          "text": [
            "Closest neighbors of good by distance 'euclidean': \n",
            "[['racist', 'production', 'frightening', 'devoid', 'measure', 'celebrity', 'fun', 'wears', 'equipment']]\n",
            "Closest neighbors of good by distance 'cosine': \n",
            "[['devoid', 'celebrity', 'production', 'report', 'measure', 'lately', 'kate', 'surprised', 'rolled']]\n",
            "Closest neighbors of good by distance 'euclidean': \n",
            "[['better', 'well', 'always', 'really', 'sure', 'way', 'so', 'but', 'excellent']]\n",
            "Closest neighbors of good by distance 'cosine': \n",
            "[['better', 'really', 'always', 'you', 'well', 'excellent', 'very', 'things', 'think']]\n"
          ],
          "name": "stdout"
        },
        {
          "output_type": "stream",
          "text": [
            "/usr/local/lib/python3.6/dist-packages/ipykernel_launcher.py:5: RuntimeWarning: invalid value encountered in true_divide\n",
            "  \"\"\"\n"
          ],
          "name": "stderr"
        }
      ]
    },
    {
      "cell_type": "markdown",
      "metadata": {
        "id": "PaHfh8zYz_kA",
        "colab_type": "text"
      },
      "source": [
        "The closest neighbors of the word 'good' provided by Glove, have closer meaning than Word2Vec."
      ]
    },
    {
      "cell_type": "markdown",
      "metadata": {
        "id": "wYrgDclxr6pC",
        "colab_type": "text"
      },
      "source": [
        "### Visualisation in two dimensions\n",
        "\n",
        "We will now use **principal component analysis** (PCA) to visualize our data in 2 dimensions.  This is equivalent to applying SVD to the covariance matrix of the data, so that the principal directions are independent of each other and maximize the variance of the data.\n",
        "We use the class ```PCA``` from the ```scikit-learn``` package: "
      ]
    },
    {
      "cell_type": "code",
      "metadata": {
        "id": "pX-MfLdMr6pD",
        "colab_type": "code",
        "colab": {
          "base_uri": "https://localhost:8080/",
          "height": 265
        },
        "outputId": "88610ba5-2662-44f6-9baa-568a8bc4d53e"
      },
      "source": [
        "from sklearn.decomposition import PCA\n",
        "pca = PCA(n_components=2, whiten=True)\n",
        "Emb = pca.fit_transform(GloveEmbeddings)\n",
        "\n",
        "words = ['bad', 'good', 'best', 'worst', 'poor', 'great',\n",
        "         'dialog', 'role', 'actor', 'camera', 'scene',\n",
        "         'film', 'movie', 'oscar', 'award']\n",
        "ind_words = [vocab_5k[w] for w in words]\n",
        "x_words = [Emb[ind,0] for ind in ind_words]\n",
        "y_words = [Emb[ind,1] for ind in ind_words]\n",
        "\n",
        "fig, ax = plt.subplots()\n",
        "ax.scatter(x_words, y_words)\n",
        "\n",
        "for i, w in enumerate(words):\n",
        "    ax.annotate(w, (x_words[i], y_words[i]), (x_words[i] + 0.001, y_words[i] + 0.001))"
      ],
      "execution_count": 121,
      "outputs": [
        {
          "output_type": "display_data",
          "data": {
            "image/png": "[encoded data removed]",
            "text/plain": [
              "<Figure size 432x288 with 1 Axes>"
            ]
          },
          "metadata": {
            "tags": [],
            "needs_background": "light"
          }
        }
      ]
    },
    {
      "cell_type": "code",
      "metadata": {
        "id": "yzK4w2Tcr6pH",
        "colab_type": "code",
        "colab": {
          "base_uri": "https://localhost:8080/",
          "height": 269
        },
        "outputId": "1666654b-41e3-4bce-c035-2273d4c8f6a9"
      },
      "source": [
        "pca = PCA(n_components=2, whiten=True)\n",
        "Emb = pca.fit_transform(W2VEmbeddings)\n",
        "\n",
        "words = ['bad', 'good', 'best', 'worst', 'poor', 'great',\n",
        "         'dialog', 'role', 'actor', 'camera', 'scene',\n",
        "         'film', 'movie', 'oscar', 'award']\n",
        "ind_words = [vocab_5k[w] for w in words]\n",
        "x_words = [Emb[ind,0] for ind in ind_words]\n",
        "y_words = [Emb[ind,1] for ind in ind_words]\n",
        "\n",
        "fig, ax = plt.subplots()\n",
        "ax.scatter(x_words, y_words)\n",
        "\n",
        "for i, w in enumerate(words):\n",
        "    ax.annotate(w, (x_words[i], y_words[i]), (x_words[i] + 0.001, y_words[i] + 0.001))"
      ],
      "execution_count": 122,
      "outputs": [
        {
          "output_type": "display_data",
          "data": {
            "image/png": "[encoded data removed]",
            "text/plain": [
              "<Figure size 432x288 with 1 Axes>"
            ]
          },
          "metadata": {
            "tags": [],
            "needs_background": "light"
          }
        }
      ]
    },
    {
      "cell_type": "markdown",
      "metadata": {
        "id": "bRm8p7wxr6pM",
        "colab_type": "text"
      },
      "source": [
        "Try to obtain visualisation for more words/words that may be interesting given the data !"
      ]
    },
    {
      "cell_type": "markdown",
      "metadata": {
        "id": "a7hEzvhVr6pO",
        "colab_type": "text"
      },
      "source": [
        "## Application to sentiment analysis\n",
        "\n",
        "We will now use these representations for sentiment analysis. \n",
        "The basic model, as before, will be constructed in two steps:\n",
        "- A function to obtain vector representations of criticism, from text, vocabulary, and vector representations of words. Such a function (to be completed below) will associate to each word of a review its embeddings, and create the representation for the whole sentence by summing these embeddings.\n",
        "- A classifier will take these representations as input and make a prediction. To achieve this, we can first use logistic regression ```LogisticRegression``` from ```scikit-learn```  "
      ]
    },
    {
      "cell_type": "code",
      "metadata": {
        "id": "yI6soMNur6pP",
        "colab_type": "code",
        "colab": {}
      },
      "source": [
        "def sentence_representations(texts, vocabulary, embeddings, np_func=np.sum):\n",
        "    \"\"\"\n",
        "    Represent the sentences as a combination of the vector of its words.\n",
        "    Parameters\n",
        "    ----------\n",
        "    texts : a list of sentences   \n",
        "    vocabulary : dict\n",
        "        From words to indexes of vector.\n",
        "    embeddings : Matrix containing word representations\n",
        "    np_func : function (default: np.sum)\n",
        "        A numpy matrix operation that can be applied columnwise, \n",
        "        like `np.mean`, `np.sum`, or `np.prod`. \n",
        "    Returns\n",
        "    -------\n",
        "    np.array, dimension `(len(texts), embeddings.shape[1])`            \n",
        "    \"\"\"\n",
        "    #\n",
        "    # To fill in !\n",
        "    # \n",
        "    return representations"
      ],
      "execution_count": 0,
      "outputs": []
    },
    {
      "cell_type": "code",
      "metadata": {
        "id": "K5svttjur6pT",
        "colab_type": "code",
        "colab": {}
      },
      "source": [
        "from sklearn.linear_model import LogisticRegression\n",
        "from sklearn.model_selection import cross_val_score\n",
        "\n",
        "# Exemple avec les embeddings obtenus via Glove\n",
        "rep = sentence_representations(corpus, vocab_5k, GloveEmbeddings)\n",
        "clf = LogisticRegression().fit(rep[::2], y[::2])\n",
        "print(clf.score(rep[1::2], y[1::2]))\n",
        "\n",
        "scores = cross_val_score(clf, rep, y, cv=5)\n",
        "print('Score de classification: %s (std %s)' % (np.mean(scores), np.std(scores)))"
      ],
      "execution_count": 0,
      "outputs": []
    },
    {
      "cell_type": "markdown",
      "metadata": {
        "id": "bixpeFmsr6pZ",
        "colab_type": "text"
      },
      "source": [
        "Why can we expect that the results obtained with embeddings extracted from representations pre-trained with Gl0ve are much better than word2vec ? What would be the way to compare Gl0ve with word2vec in a 'fair' way ? Try to play with word2vec parameters to improve results !"
      ]
    }
  ]
}